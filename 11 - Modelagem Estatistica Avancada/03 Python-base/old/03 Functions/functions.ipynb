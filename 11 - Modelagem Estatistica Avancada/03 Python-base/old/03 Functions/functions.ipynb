{
 "cells": [
  {
   "cell_type": "markdown",
   "metadata": {
    "colab_type": "text",
    "id": "2zQVHMZ2mkD8"
   },
   "source": [
    "# Functions"
   ]
  },
  {
   "cell_type": "markdown",
   "metadata": {
    "colab_type": "text",
    "id": "SI1iYQexkSMJ"
   },
   "source": [
    "**Functions** allow you to encapsulate certain procedures so that:\n",
    "\n",
    "* you just **call the function**, you don't need to understand the code inside it;\n",
    "* you can call the same function multiple times."
   ]
  },
  {
   "cell_type": "markdown",
   "metadata": {
    "colab_type": "text",
    "id": "3_NKZb8yl4Ko"
   },
   "source": [
    "Let's retrieve our program that tests whether a number is prime or not."
   ]
  },
  {
   "cell_type": "code",
   "execution_count": 2,
   "metadata": {
    "colab": {
     "base_uri": "https://localhost:8080/",
     "height": 69
    },
    "colab_type": "code",
    "id": "tyUi6KDEl_cv",
    "outputId": "7ab1ba6c-f038-4597-c294-164ce0a8e2ec"
   },
   "outputs": [
    {
     "name": "stdout",
     "output_type": "stream",
     "text": [
      "Digite um número inteiro a ser testado\n",
      "17\n",
      "Número é primo\n"
     ]
    }
   ],
   "source": [
    "# Gets the number to be tested (integer).\n",
    "print('Enter an integer to test:')\n",
    "n = int(input())\n",
    "\n",
    "# We will admit, until proof is contrary, that n is prime.\n",
    "# That is, there are no dividers without remainder from 2 to n-1.\n",
    "prime = True\n",
    "\n",
    "# We will start dividing n by 2. \n",
    "divider = 2 \n",
    "\n",
    "# Until we detect an integer divider and the divider does not reach n-1, let's keep incrementing the divider. \n",
    "# When the divider reaches n - 1 or if we found an integer divider, we stop while.\n",
    "while (divider < n) and primo:\n",
    "  if n % divider == 0:\n",
    "    prime = False\n",
    "  divisor = divider + 1\n",
    "  \n",
    "# We then present the conclusion. \n",
    "if prime: \n",
    "  print('Number is prime.')\n",
    "else: \n",
    "  print('Number is not prime.')\n"
   ]
  },
  {
   "cell_type": "markdown",
   "metadata": {
    "colab_type": "text",
    "id": "Zpbpy6Omp8aI"
   },
   "source": [
    "But in a larger program we may need to test, in many situations, if a number is prime. Let's use a function to not have to repeat the test multiple times. In this function, which we call testPrime function, in which:\n",
    "\n",
    "* There is only one parameter that is passed to it (only one parameter within parentheses);\n",
    "\n",
    "* It returns True ou False."
   ]
  },
  {
   "cell_type": "code",
   "execution_count": 3,
   "metadata": {
    "colab": {
     "base_uri": "https://localhost:8080/",
     "height": 138
    },
    "colab_type": "code",
    "id": "JInk5tDjqLEW",
    "outputId": "b63b8833-ef76-46c8-ad86-aecdcce553cf"
   },
   "outputs": [
    {
     "name": "stdout",
     "output_type": "stream",
     "text": [
      "Digite o primeiro número inteiro a ser testado\n",
      "17\n",
      "Primeiro número é primo\n",
      "----\n",
      "Digite o segundo número inteiro a ser testado\n",
      "90\n",
      "Segundo número não é primo\n"
     ]
    }
   ],
   "source": [
    "# The function:\n",
    "def testPrime(n):\n",
    "  prime = True\n",
    "  divider = 2 \n",
    "  while (divider < n) and prime:\n",
    "    if n % divider == 0:\n",
    "      prime = False\n",
    "    divider = divider + 1\n",
    "  return prime\n",
    "\n",
    "# The main program: \n",
    "print('Enter the first integer to test:')\n",
    "x1 = int(input())\n",
    "if testPrime(x1):\n",
    "  print('First number is prime.')\n",
    "else: \n",
    "  print('First number is not prime.')\n",
    "print('----')  \n",
    "print('Enter the second integer to test:')\n",
    "x2 = int(input())\n",
    "if testPrime(x2):\n",
    "  print('Second number is prime.')\n",
    "else: \n",
    "  print('Second number is not prime.')"
   ]
  },
  {
   "cell_type": "markdown",
   "metadata": {
    "colab_type": "text",
    "id": "aXczuAv4s1Wj"
   },
   "source": [
    "The world of variables within a function is completely separate! The only communication is through:\n",
    "* **parameters**, which pass **information from the main program to function**;\n",
    "* **return**, which passes information **from the function to the main program**."
   ]
  },
  {
   "cell_type": "code",
   "execution_count": 4,
   "metadata": {
    "colab": {
     "base_uri": "https://localhost:8080/",
     "height": 34
    },
    "colab_type": "code",
    "id": "qRntf4kVtNyh",
    "outputId": "746d4586-42f4-4ee7-ee23-b4c1eece54aa"
   },
   "outputs": [
    {
     "name": "stdout",
     "output_type": "stream",
     "text": [
      "23\n"
     ]
    }
   ],
   "source": [
    "def sum10(x):\n",
    "  return x+10\n",
    "\n",
    "result = sum10(13)\n",
    "print(result)"
   ]
  },
  {
   "cell_type": "code",
   "execution_count": 6,
   "metadata": {
    "colab": {
     "base_uri": "https://localhost:8080/",
     "height": 34
    },
    "colab_type": "code",
    "id": "YLacfO4Ft4-4",
    "outputId": "bced0a8e-4f7f-48cf-8ff6-7100b5feee6c"
   },
   "outputs": [
    {
     "name": "stdout",
     "output_type": "stream",
     "text": [
      "12\n"
     ]
    }
   ],
   "source": [
    "def sum10(x):\n",
    "  x=x+10\n",
    "  return x\n",
    "\n",
    "x = 12\n",
    "result = soma10(x)\n",
    "print(result)"
   ]
  },
  {
   "cell_type": "markdown",
   "metadata": {
    "colab_type": "text",
    "id": "wXh6fKqKw1HX"
   },
   "source": [
    "However, if you look inside a function for a main program variable, Python will allow it. **But it is not recommended.** It is customary to communicate between the main program and the function through parameters and return."
   ]
  },
  {
   "cell_type": "code",
   "execution_count": 7,
   "metadata": {
    "colab": {
     "base_uri": "https://localhost:8080/",
     "height": 34
    },
    "colab_type": "code",
    "id": "zZiC5X_sxHa_",
    "outputId": "57b5ad9e-1309-4457-9259-3d393d84ed00"
   },
   "outputs": [
    {
     "name": "stdout",
     "output_type": "stream",
     "text": [
      "43\n"
     ]
    }
   ],
   "source": [
    "def sum10():\n",
    "  return x + 10\n",
    "\n",
    "x=33\n",
    "print(sum10())"
   ]
  },
  {
   "cell_type": "markdown",
   "metadata": {
    "colab_type": "text",
    "id": "ji07zKw7uLdB"
   },
   "source": [
    "Not every function returns something:"
   ]
  },
  {
   "cell_type": "code",
   "execution_count": 1,
   "metadata": {
    "colab": {
     "base_uri": "https://localhost:8080/",
     "height": 52
    },
    "colab_type": "code",
    "id": "MEkGgleCuPih",
    "outputId": "3d11bd35-01cb-4698-d556-a51b0f92e1ff"
   },
   "outputs": [
    {
     "name": "stdout",
     "output_type": "stream",
     "text": [
      "anything\n",
      "None\n"
     ]
    }
   ],
   "source": [
    "result = print('anything')\n",
    "print(result)"
   ]
  },
  {
   "cell_type": "markdown",
   "metadata": {
    "colab_type": "text",
    "id": "BQ8rPkCwufuY"
   },
   "source": [
    "Not every function requires parameters:"
   ]
  },
  {
   "cell_type": "code",
   "execution_count": null,
   "metadata": {
    "colab": {
     "base_uri": "https://localhost:8080/",
     "height": 52
    },
    "colab_type": "code",
    "id": "wtGNVddjudrZ",
    "outputId": "ed4fa9b6-6c85-4f53-a859-dee67783bf05"
   },
   "outputs": [],
   "source": [
    "x = input()\n",
    "print(x)"
   ]
  },
  {
   "cell_type": "code",
   "execution_count": null,
   "metadata": {
    "colab": {
     "base_uri": "https://localhost:8080/",
     "height": 1000
    },
    "colab_type": "code",
    "id": "0spvA4pzvHZA",
    "outputId": "5417ce45-6fb2-4e3f-9a9f-55ae01807373"
   },
   "outputs": [],
   "source": [
    "def printPoetry():\n",
    "  print('Volta o cão arrependido.')\n",
    "  print('Com suas orelhas tão fartas.')\n",
    "  print('Com seu osso roído.')\n",
    "  print('E o rabo entre as patas.')\n",
    "  print('')\n",
    "  \n",
    "for i in range(44):\n",
    "  printPoetry()"
   ]
  },
  {
   "cell_type": "markdown",
   "metadata": {
    "colab_type": "text",
    "id": "KiC-rYFZusJe"
   },
   "source": [
    "Some functions require more than one parameter, separated by commas:"
   ]
  },
  {
   "cell_type": "code",
   "execution_count": 12,
   "metadata": {
    "colab": {
     "base_uri": "https://localhost:8080/",
     "height": 34
    },
    "colab_type": "code",
    "id": "wCOmwqkRuyxd",
    "outputId": "bc0eb836-6241-4b2f-ff15-bc578c5195ce"
   },
   "outputs": [
    {
     "name": "stdout",
     "output_type": "stream",
     "text": [
      "21\n"
     ]
    }
   ],
   "source": [
    "import random\n",
    "x = random.randint(1, 100)\n",
    "print(x)"
   ]
  },
  {
   "cell_type": "markdown",
   "metadata": {
    "colab_type": "text",
    "id": "_9ilcNUoymJd"
   },
   "source": [
    "To rest now ... How to treat errors? In the program below, instead of a number, type aaa."
   ]
  },
  {
   "cell_type": "code",
   "execution_count": 14,
   "metadata": {
    "colab": {
     "base_uri": "https://localhost:8080/",
     "height": 269
    },
    "colab_type": "code",
    "id": "LgRr8tVByt8e",
    "outputId": "e24e05fd-ef4f-4054-c069-f1296de6edca"
   },
   "outputs": [
    {
     "name": "stdout",
     "output_type": "stream",
     "text": [
      "Digite o número inteiro a ser testado\n",
      "aaa\n"
     ]
    },
    {
     "ename": "ValueError",
     "evalue": "ignored",
     "output_type": "error",
     "traceback": [
      "\u001b[0;31m---------------------------------------------------------------------------\u001b[0m",
      "\u001b[0;31mValueError\u001b[0m                                Traceback (most recent call last)",
      "\u001b[0;32m<ipython-input-14-4be30777408d>\u001b[0m in \u001b[0;36m<module>\u001b[0;34m()\u001b[0m\n\u001b[1;32m     10\u001b[0m \u001b[0;31m#Aqui está o programa principal\u001b[0m\u001b[0;34m\u001b[0m\u001b[0;34m\u001b[0m\u001b[0;34m\u001b[0m\u001b[0m\n\u001b[1;32m     11\u001b[0m \u001b[0mprint\u001b[0m\u001b[0;34m(\u001b[0m\u001b[0;34m'Digite o número inteiro a ser testado'\u001b[0m\u001b[0;34m)\u001b[0m\u001b[0;34m\u001b[0m\u001b[0;34m\u001b[0m\u001b[0m\n\u001b[0;32m---> 12\u001b[0;31m \u001b[0mx1\u001b[0m \u001b[0;34m=\u001b[0m \u001b[0mint\u001b[0m\u001b[0;34m(\u001b[0m\u001b[0minput\u001b[0m\u001b[0;34m(\u001b[0m\u001b[0;34m)\u001b[0m\u001b[0;34m)\u001b[0m\u001b[0;34m\u001b[0m\u001b[0;34m\u001b[0m\u001b[0m\n\u001b[0m\u001b[1;32m     13\u001b[0m \u001b[0;32mif\u001b[0m \u001b[0mtestaPrimo\u001b[0m\u001b[0;34m(\u001b[0m\u001b[0mx1\u001b[0m\u001b[0;34m)\u001b[0m\u001b[0;34m:\u001b[0m\u001b[0;34m\u001b[0m\u001b[0;34m\u001b[0m\u001b[0m\n\u001b[1;32m     14\u001b[0m   \u001b[0mprint\u001b[0m\u001b[0;34m(\u001b[0m\u001b[0;34m'Número é primo'\u001b[0m\u001b[0;34m)\u001b[0m\u001b[0;34m\u001b[0m\u001b[0;34m\u001b[0m\u001b[0m\n",
      "\u001b[0;31mValueError\u001b[0m: invalid literal for int() with base 10: 'aaa'"
     ]
    }
   ],
   "source": [
    "# The function:\n",
    "def testPrime(n):\n",
    "  prime = True\n",
    "  divider = 2 \n",
    "  while (divider < n) and prime:\n",
    "    if n % divider == 0:\n",
    "      prime = False\n",
    "    divider = divider + 1\n",
    "  return prime\n",
    "\n",
    "# The main program:\n",
    "print('Enter integer to test:')\n",
    "x1 = int(input())\n",
    "if testPrime(x1):\n",
    "  print('The number is prime.')\n",
    "else: \n",
    "  print('The number is not prime.')"
   ]
  },
  {
   "cell_type": "code",
   "execution_count": 15,
   "metadata": {
    "colab": {
     "base_uri": "https://localhost:8080/",
     "height": 69
    },
    "colab_type": "code",
    "id": "Awrxbp1KzAq1",
    "outputId": "b3977359-24db-4e2f-a1af-b9066edf1363"
   },
   "outputs": [
    {
     "name": "stdout",
     "output_type": "stream",
     "text": [
      "Digite o número inteiro a ser testado\n",
      "aaa\n",
      "Você não digitou um número inteiro\n"
     ]
    }
   ],
   "source": [
    "# The function:\n",
    "def testPrime(n):\n",
    "  prime = True\n",
    "  divider = 2 \n",
    "  while (divider < n) and prime:\n",
    "    if n % divider == 0:\n",
    "      prime = False\n",
    "    divider = divider + 1\n",
    "  return prime\n",
    "\n",
    "# The main program: \n",
    "print('Enter integer to test:')\n",
    "try:\n",
    "  x1 = int(input())\n",
    "  if testPrime(x1):\n",
    "    print('The number is prime.')\n",
    "  else: \n",
    "    print('The number is not prime.')\n",
    "except:\n",
    "  print('You did not entered an integer numebr.')"
   ]
  }
 ],
 "metadata": {
  "colab": {
   "collapsed_sections": [],
   "name": "functions.ipynb",
   "provenance": [],
   "version": "0.3.2"
  },
  "kernelspec": {
   "display_name": "Python 3",
   "language": "python",
   "name": "python3"
  },
  "language_info": {
   "codemirror_mode": {
    "name": "ipython",
    "version": 3
   },
   "file_extension": ".py",
   "mimetype": "text/x-python",
   "name": "python",
   "nbconvert_exporter": "python",
   "pygments_lexer": "ipython3",
   "version": "3.6.5"
  }
 },
 "nbformat": 4,
 "nbformat_minor": 1
}
