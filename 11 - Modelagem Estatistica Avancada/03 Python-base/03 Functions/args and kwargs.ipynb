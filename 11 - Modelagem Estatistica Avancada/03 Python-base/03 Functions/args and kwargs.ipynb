{
 "cells": [
  {
   "cell_type": "markdown",
   "metadata": {},
   "source": [
    "# args and kwargs"
   ]
  },
  {
   "cell_type": "markdown",
   "metadata": {},
   "source": [
    "Firstly, it is important to say that the words args and kwargs are just a convention. What really matters to the Python interpreter are the * and ** . You can type * var1 and ** var2 without any problem."
   ]
  },
  {
   "cell_type": "markdown",
   "metadata": {},
   "source": [
    "### How * args works"
   ]
  },
  {
   "cell_type": "markdown",
   "metadata": {},
   "source": [
    "args allows you to pass an undetermined number of parameters to a function. Arguments are passed by position, ie without any key that identifies them. The identification depends only on the position in which the parameter is passed.\n",
    "\n",
    "Let's make a script that adds the values passed as parameters. In the most conventional case, sum of two installments, would be something like:"
   ]
  },
  {
   "cell_type": "code",
   "execution_count": 1,
   "metadata": {},
   "outputs": [],
   "source": [
    "def sum_installments(installment1, installment2):\n",
    "    print(\"Sum= \", installment1 + installment2)"
   ]
  },
  {
   "cell_type": "code",
   "execution_count": 2,
   "metadata": {},
   "outputs": [
    {
     "name": "stdout",
     "output_type": "stream",
     "text": [
      "Sum=  4\n"
     ]
    }
   ],
   "source": [
    "sum_installments(1, 3)"
   ]
  },
  {
   "cell_type": "code",
   "execution_count": 3,
   "metadata": {},
   "outputs": [
    {
     "ename": "TypeError",
     "evalue": "sum_installments() takes 2 positional arguments but 3 were given",
     "output_type": "error",
     "traceback": [
      "\u001b[1;31m---------------------------------------------------------------------------\u001b[0m",
      "\u001b[1;31mTypeError\u001b[0m                                 Traceback (most recent call last)",
      "\u001b[1;32m<ipython-input-3-c26f298a7999>\u001b[0m in \u001b[0;36m<module>\u001b[1;34m()\u001b[0m\n\u001b[1;32m----> 1\u001b[1;33m \u001b[0msum_installments\u001b[0m\u001b[1;33m(\u001b[0m\u001b[1;36m1\u001b[0m\u001b[1;33m,\u001b[0m \u001b[1;36m2\u001b[0m\u001b[1;33m,\u001b[0m \u001b[1;36m3\u001b[0m\u001b[1;33m)\u001b[0m \u001b[1;31m# it gets an error message, because the function only accepts 2 arguments.\u001b[0m\u001b[1;33m\u001b[0m\u001b[0m\n\u001b[0m",
      "\u001b[1;31mTypeError\u001b[0m: sum_installments() takes 2 positional arguments but 3 were given"
     ]
    }
   ],
   "source": [
    "sum_installments(1, 2, 3) # it gets an error message, because the function only accepts 2 arguments."
   ]
  },
  {
   "cell_type": "markdown",
   "metadata": {},
   "source": [
    "To work with a variable number of arguments, modify the following code to:"
   ]
  },
  {
   "cell_type": "code",
   "execution_count": 4,
   "metadata": {},
   "outputs": [],
   "source": [
    "def sum_installments(*args):\n",
    "    result = 0\n",
    "    for number in args:\n",
    "        result += number\n",
    "    print(\"Sum= \", result)"
   ]
  },
  {
   "cell_type": "code",
   "execution_count": 5,
   "metadata": {},
   "outputs": [
    {
     "name": "stdout",
     "output_type": "stream",
     "text": [
      "Sum=  6\n"
     ]
    }
   ],
   "source": [
    "sum_installments(1, 2, 3)"
   ]
  },
  {
   "cell_type": "markdown",
   "metadata": {},
   "source": [
    "args are acessed as a list inside the function:"
   ]
  },
  {
   "cell_type": "code",
   "execution_count": 6,
   "metadata": {},
   "outputs": [],
   "source": [
    "def sum_installments(*args):\n",
    "    result = 0\n",
    "    result = args[0] + args[2]\n",
    "    print(\"Sum= \", result)"
   ]
  },
  {
   "cell_type": "code",
   "execution_count": 7,
   "metadata": {},
   "outputs": [
    {
     "name": "stdout",
     "output_type": "stream",
     "text": [
      "Sum=  4\n"
     ]
    }
   ],
   "source": [
    "sum_installments(1, 2, 3)"
   ]
  },
  {
   "cell_type": "markdown",
   "metadata": {},
   "source": [
    "### How ** kwargs works"
   ]
  },
  {
   "cell_type": "markdown",
   "metadata": {},
   "source": [
    "kwargs also allows you to pass an undetermined number of parameters to a function. But unlike args, here arguments are passed with an identifier or key, similar to a Python dictionary. This makes it easy for us to retrieve the arguments. See the following script:"
   ]
  },
  {
   "cell_type": "code",
   "execution_count": 8,
   "metadata": {},
   "outputs": [],
   "source": [
    "def processNum(**kwargs):\n",
    "    dividend = kwargs['dividend']\n",
    "    divider = kwargs['divider']\n",
    "    multiplicator = kwargs['multiplicator']\n",
    " \n",
    "    result = dividend/divider * multiplicator\n",
    "    print (result)"
   ]
  },
  {
   "cell_type": "code",
   "execution_count": 10,
   "metadata": {},
   "outputs": [
    {
     "name": "stdout",
     "output_type": "stream",
     "text": [
      "25.0\n"
     ]
    }
   ],
   "source": [
    "hey = {\"dividend\": 10, \"divider\": 2, \"multiplicator\": 5}\n",
    "processNum(**hey)"
   ]
  },
  {
   "cell_type": "code",
   "execution_count": 13,
   "metadata": {},
   "outputs": [
    {
     "name": "stdout",
     "output_type": "stream",
     "text": [
      "25.0\n"
     ]
    }
   ],
   "source": [
    "# we define the arguments in the form of a python dictionary:\n",
    "vars_dict = {\"dividend\": 10, \"divider\": 2, \"multiplicator\": 5}\n",
    "# we call the function with this dictionary (note that in the kwargs call we need to use ** before the dictionary variable):\n",
    "processNum(**vars_dict)"
   ]
  },
  {
   "cell_type": "markdown",
   "metadata": {},
   "source": [
    "### Como combinar parâmetros fixos, * args e ** kwargs numa mesma chamada"
   ]
  },
  {
   "cell_type": "markdown",
   "metadata": {},
   "source": [
    "Os três tipos de parâmetros podem ser combinados numa única chamada, mas devem obedecer a seguinte sequencia:\n",
    "\n",
    "minha_funcao(argumento_fixo, * args, ** kwargs)"
   ]
  }
 ],
 "metadata": {
  "kernelspec": {
   "display_name": "Python 3",
   "language": "python",
   "name": "python3"
  },
  "language_info": {
   "codemirror_mode": {
    "name": "ipython",
    "version": 3
   },
   "file_extension": ".py",
   "mimetype": "text/x-python",
   "name": "python",
   "nbconvert_exporter": "python",
   "pygments_lexer": "ipython3",
   "version": "3.6.5"
  }
 },
 "nbformat": 4,
 "nbformat_minor": 2
}
