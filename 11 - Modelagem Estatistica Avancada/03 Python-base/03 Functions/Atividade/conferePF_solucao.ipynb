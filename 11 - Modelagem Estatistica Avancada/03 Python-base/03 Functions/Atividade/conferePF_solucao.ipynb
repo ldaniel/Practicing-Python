{
  "nbformat": 4,
  "nbformat_minor": 0,
  "metadata": {
    "colab": {
      "name": "confere2_CPF.ipynb",
      "version": "0.3.2",
      "provenance": [],
      "collapsed_sections": []
    },
    "language_info": {
      "codemirror_mode": {
        "name": "ipython",
        "version": 3
      },
      "file_extension": ".py",
      "mimetype": "text/x-python",
      "name": "python",
      "nbconvert_exporter": "python",
      "pygments_lexer": "ipython3",
      "version": "3.7.0"
    },
    "kernelspec": {
      "display_name": "Python 3",
      "language": "python",
      "name": "python3"
    }
  },
  "cells": [
    {
      "cell_type": "code",
      "metadata": {
        "colab_type": "code",
        "id": "LxRDFUqW22xf",
        "colab": {}
      },
      "source": [
        "# A função confere_CPF recebe como parâmetro uma string\n",
        "# com o CPF (sem pontos ou hífen). \n",
        "# Retorna True se o CPF for válido.\n",
        "\n",
        "def confere_CPF(cpf): \n",
        "  if (len(cpf) != 11 or not cpf.isdigit()):\n",
        "    return False\n",
        "    \n",
        "  a=10\n",
        "  total=0\n",
        "  for i in range(0,9):\n",
        "    total=total+int(cpf[i])*a\n",
        "    a=a-1\n",
        "  digito_1=int(11-(total%11)) % 10\n",
        "  \n",
        "  a=11\n",
        "  total=0\n",
        "  for i in range(0,10):\n",
        "    total=total+int(cpf[i])*a\n",
        "    a=a-1\n",
        "  digito_2=int(11-(total%11)) % 10\n",
        "\n",
        "  return (int(cpf[9]) == int(digito_1) and int(cpf[10]) == int(digito_2))\n",
        "\n",
        "\n",
        "\n"
      ],
      "execution_count": 0,
      "outputs": []
    },
    {
      "cell_type": "code",
      "metadata": {
        "colab_type": "code",
        "id": "3ymypeztuvBN",
        "outputId": "3cee7448-8119-4f79-cdca-81dcbbe103ae",
        "colab": {
          "base_uri": "https://localhost:8080/",
          "height": 34
        }
      },
      "source": [
        "# Programa principal para testar a função confere_CPF.\n",
        "\n",
        "x = \"12345678909\"\n",
        "resultado = confere_CPF(x)\n",
        "print(resultado)"
      ],
      "execution_count": 15,
      "outputs": [
        {
          "output_type": "stream",
          "text": [
            "True\n"
          ],
          "name": "stdout"
        }
      ]
    },
    {
      "cell_type": "code",
      "metadata": {
        "colab_type": "code",
        "id": "dAKkubNluQ6P",
        "colab": {}
      },
      "source": [
        ""
      ],
      "execution_count": 0,
      "outputs": []
    }
  ]
}