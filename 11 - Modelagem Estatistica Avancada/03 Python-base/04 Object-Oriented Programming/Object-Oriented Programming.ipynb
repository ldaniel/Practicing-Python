{
 "cells": [
  {
   "cell_type": "markdown",
   "metadata": {},
   "source": [
    "# Object-Oriented Programming"
   ]
  },
  {
   "cell_type": "markdown",
   "metadata": {},
   "source": [
    "## Classes"
   ]
  },
  {
   "cell_type": "markdown",
   "metadata": {},
   "source": [
    "To create a class, use the reserved word class. Your class name follows the same naming convention for creating functions and variables, but you usually use the first letter in each word in the class name."
   ]
  },
  {
   "cell_type": "code",
   "execution_count": 38,
   "metadata": {},
   "outputs": [],
   "source": [
    "# Creating a class named Book:\n",
    "class Book():\n",
    "    \n",
    "    # The method named __init__ is started for each object created from this class. It is commonly called constructor method.\n",
    "    # self is a reference to all attributes of an object created from a class.\n",
    "    def __init__(self):\n",
    "        \n",
    "        # Attributes of each object created from this class:\n",
    "        self.title = 'O Monge e o Executivo'\n",
    "        self.isbn = 9988888\n",
    "        print(\"Constructor called to build an object of the class Book.\")\n",
    "        \n",
    "    # Methods are functions inside a class, that receives attributes created in the class.    \n",
    "    def printing(self):\n",
    "        print(\"Book created: %s, ISBN: %d\" %(self.title, self.isbn))"
   ]
  },
  {
   "cell_type": "code",
   "execution_count": 39,
   "metadata": {},
   "outputs": [
    {
     "name": "stdout",
     "output_type": "stream",
     "text": [
      "Constructor called to build an object of the class Book.\n"
     ]
    }
   ],
   "source": [
    "# Creating an instance of the Book class:\n",
    "Book1 = Book()"
   ]
  },
  {
   "cell_type": "code",
   "execution_count": 40,
   "metadata": {},
   "outputs": [
    {
     "data": {
      "text/plain": [
       "__main__.Book"
      ]
     },
     "execution_count": 40,
     "metadata": {},
     "output_type": "execute_result"
    }
   ],
   "source": [
    "# Type of the object Book1:\n",
    "type(Book1)"
   ]
  },
  {
   "cell_type": "code",
   "execution_count": 41,
   "metadata": {},
   "outputs": [
    {
     "data": {
      "text/plain": [
       "'O Monge e o Executivo'"
      ]
     },
     "execution_count": 41,
     "metadata": {},
     "output_type": "execute_result"
    }
   ],
   "source": [
    "# Attribute title of the object Book1:\n",
    "Book1.title"
   ]
  },
  {
   "cell_type": "code",
   "execution_count": 42,
   "metadata": {},
   "outputs": [
    {
     "name": "stdout",
     "output_type": "stream",
     "text": [
      "Book created: O Monge e o Executivo, ISBN: 9988888\n"
     ]
    }
   ],
   "source": [
    "# Method printing of the object Book1:\n",
    "Book1.printing()"
   ]
  },
  {
   "cell_type": "code",
   "execution_count": 48,
   "metadata": {},
   "outputs": [],
   "source": [
    "# Creating the class Book with parameters in  the constructor method:\n",
    "class Book():\n",
    "    def __init__(self, title, isbn):\n",
    "        self.title = title\n",
    "        self.isbn = isbn\n",
    "        print(\"Constructor called to build an object of the class Book.\")\n",
    "        \n",
    "    def printing(self):\n",
    "        print(\"Book created: %s, ISBN: %d\" %(self.title, self.isbn))"
   ]
  },
  {
   "cell_type": "code",
   "execution_count": 49,
   "metadata": {},
   "outputs": [
    {
     "name": "stdout",
     "output_type": "stream",
     "text": [
      "Constructor called to build an object of the class Book.\n"
     ]
    }
   ],
   "source": [
    "# Creating the object Book2 as an instance of the class Book:\n",
    "Book2 = Book(\"A Menina que Roubava Livros\", 77886611)"
   ]
  },
  {
   "cell_type": "code",
   "execution_count": 50,
   "metadata": {},
   "outputs": [
    {
     "data": {
      "text/plain": [
       "'A Menina que Roubava Livros'"
      ]
     },
     "execution_count": 50,
     "metadata": {},
     "output_type": "execute_result"
    }
   ],
   "source": [
    "# Claiming the attribute title of the object Book2:\n",
    "Book2.title"
   ]
  },
  {
   "cell_type": "code",
   "execution_count": 52,
   "metadata": {},
   "outputs": [
    {
     "name": "stdout",
     "output_type": "stream",
     "text": [
      "Book created: A Menina que Roubava Livros, ISBN: 77886611\n"
     ]
    }
   ],
   "source": [
    "# Claiming the method printing of the object Book2:\n",
    "Book2.printing()"
   ]
  },
  {
   "cell_type": "code",
   "execution_count": 53,
   "metadata": {},
   "outputs": [],
   "source": [
    "# Creating the class Dog:\n",
    "class Dog():\n",
    "    def __init__(self, breed):\n",
    "        self.breed = breed\n",
    "        print(\"Constructor called to build an object of the class Dog.\")"
   ]
  },
  {
   "cell_type": "code",
   "execution_count": 54,
   "metadata": {},
   "outputs": [
    {
     "name": "stdout",
     "output_type": "stream",
     "text": [
      "Constructor called to build an object of the class Dog.\n"
     ]
    }
   ],
   "source": [
    "# Creating an object from the class Dog:\n",
    "Rex = Dog(breed='Labrador')"
   ]
  },
  {
   "cell_type": "code",
   "execution_count": 55,
   "metadata": {},
   "outputs": [
    {
     "name": "stdout",
     "output_type": "stream",
     "text": [
      "Constructor called to build an object of the class Dog.\n"
     ]
    }
   ],
   "source": [
    "# Creating an object from the class Dog:\n",
    "Golias = Dog(breed='Huskie')"
   ]
  },
  {
   "cell_type": "code",
   "execution_count": 56,
   "metadata": {},
   "outputs": [
    {
     "data": {
      "text/plain": [
       "'Labrador'"
      ]
     },
     "execution_count": 56,
     "metadata": {},
     "output_type": "execute_result"
    }
   ],
   "source": [
    "# Attribute breed from the class Dog used by the created object Rex:\n",
    "Rex.breed"
   ]
  },
  {
   "cell_type": "code",
   "execution_count": 57,
   "metadata": {},
   "outputs": [
    {
     "data": {
      "text/plain": [
       "'Huskie'"
      ]
     },
     "execution_count": 57,
     "metadata": {},
     "output_type": "execute_result"
    }
   ],
   "source": [
    "# Attribute breed from the class Dog used by the created object Golias:\n",
    "Golias.breed"
   ]
  },
  {
   "cell_type": "markdown",
   "metadata": {},
   "source": [
    "## Objects"
   ]
  },
  {
   "cell_type": "markdown",
   "metadata": {},
   "source": [
    "In Python, everything is object."
   ]
  },
  {
   "cell_type": "code",
   "execution_count": 58,
   "metadata": {},
   "outputs": [],
   "source": [
    "# Creating a list:\n",
    "lst_num = [\"Data\", \"Science\", \"Big\", \"Data\", 10, 10]"
   ]
  },
  {
   "cell_type": "code",
   "execution_count": 59,
   "metadata": {},
   "outputs": [
    {
     "data": {
      "text/plain": [
       "list"
      ]
     },
     "execution_count": 59,
     "metadata": {},
     "output_type": "execute_result"
    }
   ],
   "source": [
    "# The list lst_num is an object from the the class list in Python.\n",
    "type(lst_num)"
   ]
  },
  {
   "cell_type": "code",
   "execution_count": 60,
   "metadata": {},
   "outputs": [
    {
     "data": {
      "text/plain": [
       "2"
      ]
     },
     "execution_count": 60,
     "metadata": {},
     "output_type": "execute_result"
    }
   ],
   "source": [
    "lst_num.count(10)"
   ]
  },
  {
   "cell_type": "code",
   "execution_count": 61,
   "metadata": {},
   "outputs": [
    {
     "name": "stdout",
     "output_type": "stream",
     "text": [
      "<class 'int'>\n",
      "<class 'list'>\n",
      "<class 'tuple'>\n",
      "<class 'dict'>\n",
      "<class 'str'>\n"
     ]
    }
   ],
   "source": [
    "# We use the function type to verify the type (or the class) of an object.\n",
    "print(type(10))\n",
    "print(type([]))\n",
    "print(type(()))\n",
    "print(type({}))\n",
    "print(type('a'))"
   ]
  },
  {
   "cell_type": "code",
   "execution_count": 62,
   "metadata": {},
   "outputs": [
    {
     "name": "stdout",
     "output_type": "stream",
     "text": [
      "<class '__main__.Car'>\n"
     ]
    }
   ],
   "source": [
    "# Creating a new type (class) of object called Car:\n",
    "class Car(object):\n",
    "    pass\n",
    "\n",
    "# Instantiating the object:\n",
    "Palio = Car()\n",
    "\n",
    "print(type(Palio))"
   ]
  },
  {
   "cell_type": "code",
   "execution_count": 63,
   "metadata": {},
   "outputs": [],
   "source": [
    "# Creating the class Students:\n",
    "class Students:\n",
    "    def __init__(self, name, age, score):\n",
    "        self.name = name\n",
    "        self.age = age\n",
    "        self.score = score"
   ]
  },
  {
   "cell_type": "code",
   "execution_count": 64,
   "metadata": {},
   "outputs": [],
   "source": [
    "# Creating the object Student1 from the class Students:\n",
    "Student1 = Students(\"Alberto\", 12, 9.5)"
   ]
  },
  {
   "cell_type": "code",
   "execution_count": 65,
   "metadata": {},
   "outputs": [
    {
     "data": {
      "text/plain": [
       "'Alberto'"
      ]
     },
     "execution_count": 65,
     "metadata": {},
     "output_type": "execute_result"
    }
   ],
   "source": [
    "# Attribute name of the class Student, used by the created object Student1:\n",
    "Student1.name"
   ]
  },
  {
   "cell_type": "code",
   "execution_count": 66,
   "metadata": {},
   "outputs": [
    {
     "data": {
      "text/plain": [
       "12"
      ]
     },
     "execution_count": 66,
     "metadata": {},
     "output_type": "execute_result"
    }
   ],
   "source": [
    "# Attribute age of the class Student, used by the created object Student1:\n",
    "Student1.age"
   ]
  },
  {
   "cell_type": "code",
   "execution_count": 67,
   "metadata": {},
   "outputs": [
    {
     "data": {
      "text/plain": [
       "9.5"
      ]
     },
     "execution_count": 67,
     "metadata": {},
     "output_type": "execute_result"
    }
   ],
   "source": [
    "# Attribute score of the class Student, used by the created object Student1:\n",
    "Student1.score"
   ]
  },
  {
   "cell_type": "code",
   "execution_count": 68,
   "metadata": {},
   "outputs": [],
   "source": [
    "# Creating the class Employee:\n",
    "class Employee:\n",
    "    def __init__(self, name, salary):\n",
    "        self.name = name\n",
    "        self.salary = salary\n",
    "\n",
    "    def listEmployee(self):\n",
    "        print(\"The employee's name is \" + self.name + \" and their salary is R$\" + str(self.salary))"
   ]
  },
  {
   "cell_type": "code",
   "execution_count": 69,
   "metadata": {},
   "outputs": [],
   "source": [
    "# Creating the object Employee1 from the class Employee:\n",
    "Employee1 = Employee(\"Carlos\", 20000)"
   ]
  },
  {
   "cell_type": "code",
   "execution_count": 70,
   "metadata": {},
   "outputs": [
    {
     "name": "stdout",
     "output_type": "stream",
     "text": [
      "The employee's name is Carlos and their salary is R$20000\n"
     ]
    }
   ],
   "source": [
    "# Using the method listEmployee from the class Employee:\n",
    "Employee1.listEmployee()"
   ]
  },
  {
   "cell_type": "markdown",
   "metadata": {},
   "source": [
    "Using attributes:"
   ]
  },
  {
   "cell_type": "code",
   "execution_count": 71,
   "metadata": {},
   "outputs": [
    {
     "data": {
      "text/plain": [
       "True"
      ]
     },
     "execution_count": 71,
     "metadata": {},
     "output_type": "execute_result"
    }
   ],
   "source": [
    "hasattr(Employee1, \"name\")"
   ]
  },
  {
   "cell_type": "code",
   "execution_count": 72,
   "metadata": {},
   "outputs": [
    {
     "data": {
      "text/plain": [
       "True"
      ]
     },
     "execution_count": 72,
     "metadata": {},
     "output_type": "execute_result"
    }
   ],
   "source": [
    "hasattr(Employee1, \"salary\")"
   ]
  },
  {
   "cell_type": "code",
   "execution_count": 73,
   "metadata": {},
   "outputs": [],
   "source": [
    "setattr(Employee1, \"salary\", 4500)"
   ]
  },
  {
   "cell_type": "code",
   "execution_count": 74,
   "metadata": {},
   "outputs": [
    {
     "data": {
      "text/plain": [
       "True"
      ]
     },
     "execution_count": 74,
     "metadata": {},
     "output_type": "execute_result"
    }
   ],
   "source": [
    "hasattr(Employee1, \"salary\")"
   ]
  },
  {
   "cell_type": "code",
   "execution_count": 75,
   "metadata": {},
   "outputs": [
    {
     "data": {
      "text/plain": [
       "4500"
      ]
     },
     "execution_count": 75,
     "metadata": {},
     "output_type": "execute_result"
    }
   ],
   "source": [
    "getattr(Employee1, \"salary\")"
   ]
  },
  {
   "cell_type": "code",
   "execution_count": 76,
   "metadata": {},
   "outputs": [],
   "source": [
    "delattr(Employee1, \"salary\")"
   ]
  },
  {
   "cell_type": "code",
   "execution_count": 77,
   "metadata": {},
   "outputs": [
    {
     "data": {
      "text/plain": [
       "False"
      ]
     },
     "execution_count": 77,
     "metadata": {},
     "output_type": "execute_result"
    }
   ],
   "source": [
    "hasattr(Employee1, \"salary\")"
   ]
  },
  {
   "cell_type": "markdown",
   "metadata": {},
   "source": [
    "## Methods"
   ]
  },
  {
   "cell_type": "code",
   "execution_count": 78,
   "metadata": {},
   "outputs": [],
   "source": [
    "# Creating a class called Circle:\n",
    "class Circle():\n",
    "    \n",
    "    # Take the pi value as a constant.\n",
    "    pi = 3.14\n",
    "\n",
    "    # When an object of this class is created, this method will be executed and the default value of radius will be 5.\n",
    "    def __init__(self, radius = 5):\n",
    "        self.radius = radius \n",
    "\n",
    "    # This method calculates the area. Self uses the attributes of this same object:\n",
    "    def area(self):\n",
    "        return (self.radius * self.radius) * Circle.pi\n",
    "\n",
    "    # Method to generate a new radius:\n",
    "    def setRadius(self, new_radius):\n",
    "        self.radius = new_radius\n",
    "\n",
    "    # Method to get circle radius:\n",
    "    def getRadius(self):\n",
    "        return self.radius"
   ]
  },
  {
   "cell_type": "code",
   "execution_count": 79,
   "metadata": {},
   "outputs": [],
   "source": [
    "# Creating the circ object as an instance of the Circle () class:\n",
    "circ = Circle()"
   ]
  },
  {
   "cell_type": "code",
   "execution_count": 80,
   "metadata": {},
   "outputs": [
    {
     "data": {
      "text/plain": [
       "5"
      ]
     },
     "execution_count": 80,
     "metadata": {},
     "output_type": "execute_result"
    }
   ],
   "source": [
    "# Executing a method of the Circle class:\n",
    "circ.getRadius()"
   ]
  },
  {
   "cell_type": "code",
   "execution_count": 81,
   "metadata": {},
   "outputs": [],
   "source": [
    "# Creating another object called circ1 as an instance of the Circle() class, but now overriding the attribute value:\n",
    "circ1 = Circle(7)"
   ]
  },
  {
   "cell_type": "code",
   "execution_count": 82,
   "metadata": {},
   "outputs": [
    {
     "data": {
      "text/plain": [
       "7"
      ]
     },
     "execution_count": 82,
     "metadata": {},
     "output_type": "execute_result"
    }
   ],
   "source": [
    "# Executing a method of the Circle class:\n",
    "circ1.getRadius()"
   ]
  },
  {
   "cell_type": "code",
   "execution_count": 83,
   "metadata": {},
   "outputs": [
    {
     "name": "stdout",
     "output_type": "stream",
     "text": [
      "The radius value is:  5\n"
     ]
    }
   ],
   "source": [
    "# Printing the radius:\n",
    "print ('The radius value is: ', circ.getRadius())"
   ]
  },
  {
   "cell_type": "code",
   "execution_count": 84,
   "metadata": {},
   "outputs": [
    {
     "name": "stdout",
     "output_type": "stream",
     "text": [
      "The area value is:  78.5\n"
     ]
    }
   ],
   "source": [
    "# Printing the area:\n",
    "print('The area value is: ', circ.area())"
   ]
  },
  {
   "cell_type": "code",
   "execution_count": 85,
   "metadata": {},
   "outputs": [],
   "source": [
    "# Generating a new value for circle radius:\n",
    "circ.setRadius(3)"
   ]
  },
  {
   "cell_type": "code",
   "execution_count": 86,
   "metadata": {},
   "outputs": [
    {
     "name": "stdout",
     "output_type": "stream",
     "text": [
      "New radius value is:  3\n"
     ]
    }
   ],
   "source": [
    "# Printing the new radius value:\n",
    "print ('New radius value is: ', circ.getRadius())"
   ]
  },
  {
   "cell_type": "markdown",
   "metadata": {},
   "source": [
    "## Heritage"
   ]
  },
  {
   "cell_type": "code",
   "execution_count": 87,
   "metadata": {},
   "outputs": [],
   "source": [
    "# Creating the Animal class (it will be our superclass):\n",
    "class Animal():\n",
    "    \n",
    "    def __init__(self):\n",
    "        print(\"Animal created.\")\n",
    "\n",
    "    def Identif(self):\n",
    "        print(\"Animal\")\n",
    "\n",
    "    def eat(self):\n",
    "        print(\"Eating.\")"
   ]
  },
  {
   "cell_type": "code",
   "execution_count": 88,
   "metadata": {},
   "outputs": [],
   "source": [
    "# Creating the Dog class (it will be our subclass):\n",
    "class Dog(Animal):\n",
    "    \n",
    "    def __init__(self):\n",
    "        Animal.__init__(self)\n",
    "        print(\"Dog object created\")\n",
    "\n",
    "    def Identif(self):\n",
    "        print(\"Dog\")\n",
    "\n",
    "    def bark(self):\n",
    "        print(\"Wulf Wulf!\")"
   ]
  },
  {
   "cell_type": "code",
   "execution_count": 89,
   "metadata": {},
   "outputs": [
    {
     "name": "stdout",
     "output_type": "stream",
     "text": [
      "Animal created.\n",
      "Dog object created\n"
     ]
    }
   ],
   "source": [
    "# Creating an object (instantiating the class):\n",
    "rex = Dog()"
   ]
  },
  {
   "cell_type": "code",
   "execution_count": 90,
   "metadata": {},
   "outputs": [
    {
     "name": "stdout",
     "output_type": "stream",
     "text": [
      "Dog\n"
     ]
    }
   ],
   "source": [
    "# Executing the Dog class method (subclass):\n",
    "rex.Identif()"
   ]
  },
  {
   "cell_type": "code",
   "execution_count": 91,
   "metadata": {},
   "outputs": [
    {
     "name": "stdout",
     "output_type": "stream",
     "text": [
      "Eating.\n"
     ]
    }
   ],
   "source": [
    "# Running the Animal class method (superclass).\n",
    "rex.eat()"
   ]
  },
  {
   "cell_type": "code",
   "execution_count": 92,
   "metadata": {},
   "outputs": [
    {
     "name": "stdout",
     "output_type": "stream",
     "text": [
      "Wulf Wulf!\n"
     ]
    }
   ],
   "source": [
    "# Executing the Dog class method (subclass):\n",
    "rex.bark()"
   ]
  },
  {
   "cell_type": "markdown",
   "metadata": {},
   "source": [
    "## Special Methods"
   ]
  },
  {
   "cell_type": "code",
   "execution_count": 110,
   "metadata": {},
   "outputs": [],
   "source": [
    "# Creating the Book class:\n",
    "class Book():\n",
    "    def __init__(self, title, author, pages):\n",
    "        print (\"Book created.\")\n",
    "        self.title = title\n",
    "        self.author = author\n",
    "        self.pages = pages\n",
    "                \n",
    "    def __str__(self):\n",
    "        return \"Title: %s , author: %s, pages: %s \" \\\n",
    "    %(self.title, self.author, self.pages)\n",
    "\n",
    "    def __len__(self):\n",
    "        return self.pages\n",
    "    \n",
    "    def len(self):\n",
    "        return print(\"Book pages with the common method: \", self.pages)"
   ]
  },
  {
   "cell_type": "code",
   "execution_count": 111,
   "metadata": {},
   "outputs": [
    {
     "name": "stdout",
     "output_type": "stream",
     "text": [
      "Book created.\n"
     ]
    }
   ],
   "source": [
    "book1 = Book(\"Os Lusíadas\", \"Luis de Camões\", 8816)"
   ]
  },
  {
   "cell_type": "markdown",
   "metadata": {},
   "source": [
    "Special methods:"
   ]
  },
  {
   "cell_type": "code",
   "execution_count": 112,
   "metadata": {},
   "outputs": [
    {
     "name": "stdout",
     "output_type": "stream",
     "text": [
      "Title: Os Lusíadas , author: Luis de Camões, pages: 8816 \n"
     ]
    }
   ],
   "source": [
    "print(book1)"
   ]
  },
  {
   "cell_type": "code",
   "execution_count": 113,
   "metadata": {},
   "outputs": [
    {
     "data": {
      "text/plain": [
       "'Title: Os Lusíadas , author: Luis de Camões, pages: 8816 '"
      ]
     },
     "execution_count": 113,
     "metadata": {},
     "output_type": "execute_result"
    }
   ],
   "source": [
    "str(book1)"
   ]
  },
  {
   "cell_type": "code",
   "execution_count": 114,
   "metadata": {},
   "outputs": [
    {
     "data": {
      "text/plain": [
       "8816"
      ]
     },
     "execution_count": 114,
     "metadata": {},
     "output_type": "execute_result"
    }
   ],
   "source": [
    "len(book1)"
   ]
  },
  {
   "cell_type": "code",
   "execution_count": 115,
   "metadata": {},
   "outputs": [
    {
     "name": "stdout",
     "output_type": "stream",
     "text": [
      "Book pages with the common method:  8816\n"
     ]
    }
   ],
   "source": [
    "book1.len()"
   ]
  },
  {
   "cell_type": "code",
   "execution_count": 116,
   "metadata": {},
   "outputs": [],
   "source": [
    "# When executing the del function to remove an attribute, Python executes: book1.__delattr__(\"pages\").\n",
    "del book1.pages\n",
    "# or:\n",
    "#del(book1.pages)"
   ]
  },
  {
   "cell_type": "code",
   "execution_count": 117,
   "metadata": {},
   "outputs": [
    {
     "data": {
      "text/plain": [
       "False"
      ]
     },
     "execution_count": 117,
     "metadata": {},
     "output_type": "execute_result"
    }
   ],
   "source": [
    "hasattr(book1, \"pages\")"
   ]
  },
  {
   "cell_type": "code",
   "execution_count": null,
   "metadata": {},
   "outputs": [],
   "source": []
  }
 ],
 "metadata": {
  "kernelspec": {
   "display_name": "Python 3",
   "language": "python",
   "name": "python3"
  },
  "language_info": {
   "codemirror_mode": {
    "name": "ipython",
    "version": 3
   },
   "file_extension": ".py",
   "mimetype": "text/x-python",
   "name": "python",
   "nbconvert_exporter": "python",
   "pygments_lexer": "ipython3",
   "version": "3.7.5"
  }
 },
 "nbformat": 4,
 "nbformat_minor": 2
}
