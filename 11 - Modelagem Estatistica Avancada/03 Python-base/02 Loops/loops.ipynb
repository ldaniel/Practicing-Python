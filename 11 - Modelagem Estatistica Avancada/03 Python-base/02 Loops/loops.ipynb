{
 "cells": [
  {
   "cell_type": "markdown",
   "metadata": {
    "colab_type": "text",
    "id": "WHMOIXs5CYJg"
   },
   "source": [
    "\n",
    "# Loops"
   ]
  },
  {
   "cell_type": "markdown",
   "metadata": {
    "colab_type": "text",
    "id": "PUH8eHYRC0bf"
   },
   "source": [
    "Now let's learn how to repeat the execution of a command block a fixed number of times or while a condition is true."
   ]
  },
  {
   "cell_type": "markdown",
   "metadata": {
    "colab_type": "text",
    "id": "iTwiI2bIDCUu"
   },
   "source": [
    "Let's start by looking at how to repeat a command block a number of times by 'loop for'."
   ]
  },
  {
   "cell_type": "code",
   "execution_count": 1,
   "metadata": {
    "colab": {},
    "colab_type": "code",
    "id": "iA1KhzKRCXZl"
   },
   "outputs": [
    {
     "name": "stdout",
     "output_type": "stream",
     "text": [
      "My name is:\n",
      "Bond, James Bond (0)\n",
      "Bond, James Bond (1)\n",
      "Bond, James Bond (2)\n",
      "Bond, James Bond (3)\n",
      "Bond, James Bond (4)\n"
     ]
    }
   ],
   "source": [
    "print('My name is:')\n",
    "for i in range(5):\n",
    "    print('Bond, James Bond (' + str(i) + ')')"
   ]
  },
  {
   "cell_type": "markdown",
   "metadata": {
    "colab_type": "text",
    "id": "CBxQ2N7YEMTy"
   },
   "source": [
    "Note that in determining that we want to repeat 5 times, Python uses i between 0 and 4 to do the repetitions."
   ]
  },
  {
   "cell_type": "code",
   "execution_count": 2,
   "metadata": {
    "colab": {},
    "colab_type": "code",
    "id": "ckPAqkNvEbFQ"
   },
   "outputs": [
    {
     "name": "stdout",
     "output_type": "stream",
     "text": [
      "My name is:\n",
      "Bond, James Bond (0)\n",
      "Bond, James Bond (1)\n",
      "Bond, James Bond (2)\n",
      "Bond, James Bond (3)\n",
      "Bond, James Bond (4)\n"
     ]
    }
   ],
   "source": [
    "n=5\n",
    "print('My name is:')\n",
    "for i in range(n):\n",
    "    print('Bond, James Bond (' + str(i) + ')')"
   ]
  },
  {
   "cell_type": "markdown",
   "metadata": {
    "colab_type": "text",
    "id": "Pf0AaApeEs4W"
   },
   "source": [
    "Counting starts at 0 and goes to the number in range minus 1. We can, however, change the starting count."
   ]
  },
  {
   "cell_type": "code",
   "execution_count": 3,
   "metadata": {
    "colab": {},
    "colab_type": "code",
    "id": "q4wtzlJ4Ey4O"
   },
   "outputs": [
    {
     "name": "stdout",
     "output_type": "stream",
     "text": [
      "My name is:\n",
      "Bond, James Bond (0)\n",
      "Bond, James Bond (1)\n",
      "Bond, James Bond (2)\n",
      "Bond, James Bond (3)\n",
      "Bond, James Bond (4)\n",
      "fim\n"
     ]
    }
   ],
   "source": [
    "print('My name is:')\n",
    "for i in range(0,5):\n",
    "    print('Bond, James Bond (' + str(i) + ')')\n",
    "print('fim')"
   ]
  },
  {
   "cell_type": "code",
   "execution_count": 4,
   "metadata": {
    "colab": {},
    "colab_type": "code",
    "id": "nGQ3knwmE-9m"
   },
   "outputs": [
    {
     "name": "stdout",
     "output_type": "stream",
     "text": [
      "My name is:\n",
      "Bond, James Bond (1)\n",
      "Bond, James Bond (2)\n",
      "Bond, James Bond (3)\n",
      "Bond, James Bond (4)\n"
     ]
    }
   ],
   "source": [
    "print('My name is:')\n",
    "for i in range(1,5):\n",
    "    print('Bond, James Bond (' + str(i) + ')')"
   ]
  },
  {
   "cell_type": "markdown",
   "metadata": {
    "colab_type": "text",
    "id": "TAi49ptDFWuD"
   },
   "source": [
    "Now let's change the step."
   ]
  },
  {
   "cell_type": "code",
   "execution_count": 5,
   "metadata": {
    "colab": {},
    "colab_type": "code",
    "id": "ryXx8cDvFZxr"
   },
   "outputs": [
    {
     "name": "stdout",
     "output_type": "stream",
     "text": [
      "My name is:\n",
      "Bond, James Bond (1)\n",
      "Bond, James Bond (2)\n",
      "Bond, James Bond (3)\n",
      "Bond, James Bond (4)\n"
     ]
    }
   ],
   "source": [
    "print('My name is:')\n",
    "for i in range(1,5,1):\n",
    "    print('Bond, James Bond (' + str(i) + ')')"
   ]
  },
  {
   "cell_type": "code",
   "execution_count": 6,
   "metadata": {
    "colab": {},
    "colab_type": "code",
    "id": "hpjPm4EUFeBC"
   },
   "outputs": [
    {
     "name": "stdout",
     "output_type": "stream",
     "text": [
      "My name is:\n",
      "Bond, James Bond (1)\n",
      "Bond, James Bond (3)\n"
     ]
    }
   ],
   "source": [
    "print('My name is:')\n",
    "for i in range(1,5,2):\n",
    "    print('Bond, James Bond (' + str(i) + ')')"
   ]
  },
  {
   "cell_type": "markdown",
   "metadata": {
    "colab_type": "text",
    "id": "oPSOFbszFprR"
   },
   "source": [
    "Now let's loop (one repetition) until a condition is no longer true."
   ]
  },
  {
   "cell_type": "code",
   "execution_count": 7,
   "metadata": {
    "colab": {},
    "colab_type": "code",
    "id": "cNDpjIeMFyKs"
   },
   "outputs": [
    {
     "name": "stdout",
     "output_type": "stream",
     "text": [
      "\n"
     ]
    },
    {
     "name": "stdin",
     "output_type": "stream",
     "text": [
      "Type the password: ll\n"
     ]
    },
    {
     "name": "stdout",
     "output_type": "stream",
     "text": [
      "\n"
     ]
    },
    {
     "name": "stdin",
     "output_type": "stream",
     "text": [
      "Type the password: PalmeirasTemMundial\n"
     ]
    },
    {
     "name": "stdout",
     "output_type": "stream",
     "text": [
      "\n",
      "Right answer. We can continue.\n"
     ]
    }
   ],
   "source": [
    "incorrectPassword = True\n",
    "while incorrectPassword:\n",
    "    print()\n",
    "    password = input('Type the password:')\n",
    "    if password == 'PalmeirasTemMundial':\n",
    "        incorrectPassword = False\n",
    "print()\n",
    "print('Right answer. We can continue.')"
   ]
  },
  {
   "cell_type": "code",
   "execution_count": 8,
   "metadata": {
    "colab": {},
    "colab_type": "code",
    "id": "e5nDUo2FG-Is"
   },
   "outputs": [
    {
     "name": "stdout",
     "output_type": "stream",
     "text": [
      "\n"
     ]
    },
    {
     "name": "stdin",
     "output_type": "stream",
     "text": [
      "Type the password: ddd\n"
     ]
    },
    {
     "name": "stdout",
     "output_type": "stream",
     "text": [
      "\n"
     ]
    },
    {
     "name": "stdin",
     "output_type": "stream",
     "text": [
      "Type the password: PalmeirasTemMundial\n"
     ]
    },
    {
     "name": "stdout",
     "output_type": "stream",
     "text": [
      "\n",
      "Right answer. We can continue.\n"
     ]
    }
   ],
   "source": [
    "incorrectPassword = True\n",
    "while incorrectPassword == True:\n",
    "    print()\n",
    "    password = input('Type the password:')\n",
    "    if password == 'PalmeirasTemMundial':\n",
    "        incorrectPassword = False\n",
    "print()\n",
    "print('Right answer. We can continue.')"
   ]
  },
  {
   "cell_type": "code",
   "execution_count": 1,
   "metadata": {
    "colab": {},
    "colab_type": "code",
    "id": "Io87n9WWHG9C"
   },
   "outputs": [
    {
     "name": "stdout",
     "output_type": "stream",
     "text": [
      "\n"
     ]
    },
    {
     "name": "stdin",
     "output_type": "stream",
     "text": [
      "Type the password: fff\n"
     ]
    },
    {
     "name": "stdout",
     "output_type": "stream",
     "text": [
      "\n"
     ]
    },
    {
     "name": "stdin",
     "output_type": "stream",
     "text": [
      "Type the password: PalmeirasTemMundial\n"
     ]
    },
    {
     "name": "stdout",
     "output_type": "stream",
     "text": [
      "\n",
      "Right answer. We can continue.\n"
     ]
    }
   ],
   "source": [
    "while True:\n",
    "    print()\n",
    "    password = input('Type the password:')\n",
    "    if password == 'PalmeirasTemMundial':\n",
    "        break\n",
    "print()\n",
    "print('Right answer. We can continue.')"
   ]
  },
  {
   "cell_type": "code",
   "execution_count": 2,
   "metadata": {
    "colab": {},
    "colab_type": "code",
    "id": "1aN_VO5gHz0d"
   },
   "outputs": [
    {
     "name": "stdout",
     "output_type": "stream",
     "text": [
      "\n"
     ]
    },
    {
     "name": "stdin",
     "output_type": "stream",
     "text": [
      "Type the password: ddd\n"
     ]
    },
    {
     "name": "stdout",
     "output_type": "stream",
     "text": [
      "\n"
     ]
    },
    {
     "name": "stdin",
     "output_type": "stream",
     "text": [
      "Type the password: PalmeirasTemMundial\n"
     ]
    },
    {
     "name": "stdout",
     "output_type": "stream",
     "text": [
      "\n",
      "Right answer. We can continue.\n"
     ]
    }
   ],
   "source": [
    "password = ''\n",
    "while password != 'PalmeirasTemMundial':\n",
    "    print()\n",
    "    password = input('Type the password:')\n",
    "print()\n",
    "print('Right answer. We can continue.')"
   ]
  },
  {
   "cell_type": "code",
   "execution_count": 7,
   "metadata": {
    "colab": {},
    "colab_type": "code",
    "id": "D3nuAz4PIvIZ"
   },
   "outputs": [
    {
     "name": "stdout",
     "output_type": "stream",
     "text": [
      "3\n"
     ]
    }
   ],
   "source": [
    "import random\n",
    "\n",
    "X = random.randint(1, 3)\n",
    "print(X)"
   ]
  },
  {
   "cell_type": "code",
   "execution_count": 8,
   "metadata": {
    "colab": {},
    "colab_type": "code",
    "id": "yjw1uo44JH42"
   },
   "outputs": [
    {
     "name": "stdout",
     "output_type": "stream",
     "text": [
      "8\n",
      "It has ended, as 8 had appeared!!\n"
     ]
    }
   ],
   "source": [
    "import random\n",
    "\n",
    "while True:\n",
    "    x = random.randint(1, 10)\n",
    "    print(x)\n",
    "    if x == 8:\n",
    "        break\n",
    "print('It has ended, as 8 had appeared!!')"
   ]
  }
 ],
 "metadata": {
  "colab": {
   "collapsed_sections": [],
   "name": "loops.ipynb",
   "provenance": [],
   "version": "0.3.2"
  },
  "kernelspec": {
   "display_name": "Python 3",
   "language": "python",
   "name": "python3"
  },
  "language_info": {
   "codemirror_mode": {
    "name": "ipython",
    "version": 3
   },
   "file_extension": ".py",
   "mimetype": "text/x-python",
   "name": "python",
   "nbconvert_exporter": "python",
   "pygments_lexer": "ipython3",
   "version": "3.7.5"
  }
 },
 "nbformat": 4,
 "nbformat_minor": 4
}
