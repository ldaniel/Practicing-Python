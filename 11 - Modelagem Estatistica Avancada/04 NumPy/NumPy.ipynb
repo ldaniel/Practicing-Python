{
 "cells": [
  {
   "cell_type": "markdown",
   "metadata": {
    "colab_type": "text",
    "id": "L83nHYenp1Mm"
   },
   "source": [
    "# NumPy"
   ]
  },
  {
   "cell_type": "markdown",
   "metadata": {
    "colab_type": "text",
    "id": "INV6ZE8Bp39D",
    "toc-hr-collapsed": true,
    "toc-nb-collapsed": true
   },
   "source": [
    "## General"
   ]
  },
  {
   "cell_type": "markdown",
   "metadata": {
    "colab_type": "text",
    "id": "lybhHZ5Ip9gR"
   },
   "source": [
    "### General"
   ]
  },
  {
   "cell_type": "markdown",
   "metadata": {},
   "source": [
    "The NumPy library is the core library for scientific computing in Python. It provides a high performance multidimensional array object, and tools for working with these arrays."
   ]
  },
  {
   "cell_type": "code",
   "execution_count": 6,
   "metadata": {},
   "outputs": [
    {
     "data": {
      "image/jpeg": "[encoded data removed]",
      "text/plain": [
       "<IPython.core.display.Image object>"
      ]
     },
     "execution_count": 6,
     "metadata": {},
     "output_type": "execute_result"
    }
   ],
   "source": [
    "from IPython.display import Image\n",
    "Image(\"NumPy logo.jpg\")"
   ]
  },
  {
   "cell_type": "markdown",
   "metadata": {
    "colab_type": "text",
    "id": "wZbtV7RXpHeF"
   },
   "source": [
    "Use the following import convention:"
   ]
  },
  {
   "cell_type": "code",
   "execution_count": 184,
   "metadata": {
    "colab": {},
    "colab_type": "code",
    "id": "yKIpt4hEpnKo"
   },
   "outputs": [],
   "source": [
    "import numpy as np"
   ]
  },
  {
   "cell_type": "markdown",
   "metadata": {
    "colab_type": "text",
    "id": "QnnMgtsPp_3R"
   },
   "source": [
    "### NumPy Arrays"
   ]
  },
  {
   "cell_type": "markdown",
   "metadata": {
    "colab_type": "text",
    "id": "pEntdQOoszFB"
   },
   "source": [
    "*Look at the figure NumPy_arrays in the folder.*"
   ]
  },
  {
   "cell_type": "markdown",
   "metadata": {
    "colab_type": "text",
    "id": "wgkwMx0YqImE",
    "toc-hr-collapsed": true,
    "toc-nb-collapsed": true
   },
   "source": [
    "## Creating Arrays"
   ]
  },
  {
   "cell_type": "markdown",
   "metadata": {
    "colab_type": "text",
    "id": "wSIu9wASqMpm"
   },
   "source": [
    "### General"
   ]
  },
  {
   "cell_type": "markdown",
   "metadata": {
    "colab_type": "text",
    "id": "j_Ks8dQqUf_B"
   },
   "source": [
    "1D:"
   ]
  },
  {
   "cell_type": "code",
   "execution_count": 8,
   "metadata": {
    "colab": {},
    "colab_type": "code",
    "id": "EyLZZ-oos-D8"
   },
   "outputs": [
    {
     "name": "stdout",
     "output_type": "stream",
     "text": [
      "[1 2 3]\n",
      "<class 'numpy.ndarray'>\n"
     ]
    }
   ],
   "source": [
    "a = np.array([1, 2, 3])\n",
    "print(a)\n",
    "print(type(a))"
   ]
  },
  {
   "cell_type": "markdown",
   "metadata": {
    "colab_type": "text",
    "id": "GB0gSgWSUlH_"
   },
   "source": [
    "2D (note that an array is a list of lists with multiple possible depths, and it does not matter whether to use parentheses or square brackets at the innermost level of lists):"
   ]
  },
  {
   "cell_type": "code",
   "execution_count": 9,
   "metadata": {
    "colab": {},
    "colab_type": "code",
    "id": "0nVVSATct5QO"
   },
   "outputs": [
    {
     "name": "stdout",
     "output_type": "stream",
     "text": [
      "[[1.5 2.  3. ]\n",
      " [4.  5.  6. ]]\n"
     ]
    }
   ],
   "source": [
    "b = np.array([(1.5, 2, 3), (4, 5, 6)], dtype = float)\n",
    "print(b)"
   ]
  },
  {
   "cell_type": "code",
   "execution_count": 10,
   "metadata": {
    "colab": {},
    "colab_type": "code",
    "id": "RIdUtHIqUwHf"
   },
   "outputs": [
    {
     "name": "stdout",
     "output_type": "stream",
     "text": [
      "[[1.5 2.  3. ]\n",
      " [4.  5.  6. ]]\n"
     ]
    }
   ],
   "source": [
    "b = np.array([[1.5, 2, 3], [4, 5, 6]], dtype = float)\n",
    "print(b)"
   ]
  },
  {
   "cell_type": "markdown",
   "metadata": {
    "colab_type": "text",
    "id": "eUePvm8UWF0C"
   },
   "source": [
    "*type* is a Python data type.\n",
    "*dtype* is a NumPy data type, suitable for numerical methods and attribute of inside elements of an array."
   ]
  },
  {
   "cell_type": "code",
   "execution_count": 11,
   "metadata": {
    "colab": {
     "base_uri": "https://localhost:8080/",
     "height": 34
    },
    "colab_type": "code",
    "id": "uYz6nQPYWHMo",
    "outputId": "dcdf1078-8f94-4c09-b67e-4021157a483a"
   },
   "outputs": [
    {
     "data": {
      "text/plain": [
       "dtype('float64')"
      ]
     },
     "execution_count": 11,
     "metadata": {},
     "output_type": "execute_result"
    }
   ],
   "source": [
    "b.dtype"
   ]
  },
  {
   "cell_type": "markdown",
   "metadata": {
    "colab_type": "text",
    "id": "c2FAPI97VdsJ"
   },
   "source": [
    "3D:"
   ]
  },
  {
   "cell_type": "code",
   "execution_count": 12,
   "metadata": {
    "colab": {},
    "colab_type": "code",
    "id": "d0ouXqIet48K"
   },
   "outputs": [],
   "source": [
    "c = np.array([[(1.5, 2, 3), (4, 5, 6)],[(3, 2, 1),(4, 5, 6)]], dtype = float)"
   ]
  },
  {
   "cell_type": "code",
   "execution_count": 13,
   "metadata": {
    "colab": {
     "base_uri": "https://localhost:8080/",
     "height": 104
    },
    "colab_type": "code",
    "id": "79_Qfy7Rud67",
    "outputId": "4af2d640-e228-402d-972c-4795f7b6e0e2"
   },
   "outputs": [
    {
     "data": {
      "text/plain": [
       "array([[[1.5, 2. , 3. ],\n",
       "        [4. , 5. , 6. ]],\n",
       "\n",
       "       [[3. , 2. , 1. ],\n",
       "        [4. , 5. , 6. ]]])"
      ]
     },
     "execution_count": 13,
     "metadata": {},
     "output_type": "execute_result"
    }
   ],
   "source": [
    "c"
   ]
  },
  {
   "cell_type": "markdown",
   "metadata": {
    "colab_type": "text",
    "id": "5yfOI3xoqTUS"
   },
   "source": [
    "### Initial Placeholders"
   ]
  },
  {
   "cell_type": "markdown",
   "metadata": {
    "colab_type": "text",
    "id": "LainVzSgutin"
   },
   "source": [
    "Create an array of zeros:"
   ]
  },
  {
   "cell_type": "code",
   "execution_count": 14,
   "metadata": {
    "colab": {
     "base_uri": "https://localhost:8080/",
     "height": 69
    },
    "colab_type": "code",
    "id": "AjrqZJX6J4mB",
    "outputId": "11b3e6e4-94b1-4479-9647-8b3b0dff0507"
   },
   "outputs": [
    {
     "name": "stdout",
     "output_type": "stream",
     "text": [
      "[[0. 0. 0. 0.]\n",
      " [0. 0. 0. 0.]\n",
      " [0. 0. 0. 0.]]\n"
     ]
    }
   ],
   "source": [
    "print(np.zeros((3, 4)))"
   ]
  },
  {
   "cell_type": "markdown",
   "metadata": {
    "colab_type": "text",
    "id": "p06gJTIVJNiy"
   },
   "source": [
    "Create an array of ones:"
   ]
  },
  {
   "cell_type": "code",
   "execution_count": 15,
   "metadata": {
    "colab": {
     "base_uri": "https://localhost:8080/",
     "height": 138
    },
    "colab_type": "code",
    "id": "z4nJq8AGJ5MT",
    "outputId": "e57a9986-43fb-464d-a0ce-cc7392e06cb3"
   },
   "outputs": [
    {
     "name": "stdout",
     "output_type": "stream",
     "text": [
      "[[[1 1 1 1]\n",
      "  [1 1 1 1]\n",
      "  [1 1 1 1]]\n",
      "\n",
      " [[1 1 1 1]\n",
      "  [1 1 1 1]\n",
      "  [1 1 1 1]]]\n"
     ]
    }
   ],
   "source": [
    "print(np.ones((2, 3, 4), dtype=np.int16))"
   ]
  },
  {
   "cell_type": "markdown",
   "metadata": {
    "colab_type": "text",
    "id": "Nw2_rf_WJRcg"
   },
   "source": [
    "Create an array of evenly spaced values (step value):"
   ]
  },
  {
   "cell_type": "code",
   "execution_count": 16,
   "metadata": {
    "colab": {},
    "colab_type": "code",
    "id": "N-_WZrCQJ58d"
   },
   "outputs": [
    {
     "name": "stdout",
     "output_type": "stream",
     "text": [
      "[10 15 20]\n"
     ]
    }
   ],
   "source": [
    "d = np.arange(10, 25, 5)\n",
    "print(d)"
   ]
  },
  {
   "cell_type": "markdown",
   "metadata": {
    "colab_type": "text",
    "id": "B0yKnAoZJZkl"
   },
   "source": [
    "Create an array of evenly spaced values (number of samples):"
   ]
  },
  {
   "cell_type": "code",
   "execution_count": 17,
   "metadata": {
    "colab": {
     "base_uri": "https://localhost:8080/",
     "height": 34
    },
    "colab_type": "code",
    "id": "5ALLILS2J6xV",
    "outputId": "b4f9abb6-2429-4e66-b180-9d4baeb546fa"
   },
   "outputs": [
    {
     "name": "stdout",
     "output_type": "stream",
     "text": [
      "[0.   0.25 0.5  0.75 1.   1.25 1.5  1.75 2.  ]\n"
     ]
    }
   ],
   "source": [
    "print(np.linspace(0, 2, 9))"
   ]
  },
  {
   "cell_type": "markdown",
   "metadata": {
    "colab_type": "text",
    "id": "8WCSC_CkJisY"
   },
   "source": [
    "Create a constant array:"
   ]
  },
  {
   "cell_type": "code",
   "execution_count": 18,
   "metadata": {
    "colab": {},
    "colab_type": "code",
    "id": "fjWCtvN5J7ny"
   },
   "outputs": [
    {
     "name": "stdout",
     "output_type": "stream",
     "text": [
      "[[7 7]\n",
      " [7 7]]\n"
     ]
    }
   ],
   "source": [
    "e = np.full((2, 2), 7)\n",
    "print(e)"
   ]
  },
  {
   "cell_type": "markdown",
   "metadata": {
    "colab_type": "text",
    "id": "hy0qPA_tJlyf"
   },
   "source": [
    "Create a 2x2 identity matrix:"
   ]
  },
  {
   "cell_type": "code",
   "execution_count": 19,
   "metadata": {
    "colab": {},
    "colab_type": "code",
    "id": "U3KbJZTqJ8v_"
   },
   "outputs": [
    {
     "name": "stdout",
     "output_type": "stream",
     "text": [
      "[[1. 0.]\n",
      " [0. 1.]]\n"
     ]
    }
   ],
   "source": [
    "f = np.eye(2)\n",
    "print(f)"
   ]
  },
  {
   "cell_type": "markdown",
   "metadata": {
    "colab_type": "text",
    "id": "wNDTTNpGJq6p"
   },
   "source": [
    "Create an array with random values:"
   ]
  },
  {
   "cell_type": "code",
   "execution_count": 20,
   "metadata": {
    "colab": {
     "base_uri": "https://localhost:8080/",
     "height": 52
    },
    "colab_type": "code",
    "id": "2C8fczeoJ9zf",
    "outputId": "fc63b243-d03e-4cc7-b7a3-8c7142400efc"
   },
   "outputs": [
    {
     "name": "stdout",
     "output_type": "stream",
     "text": [
      "[[0.0479457  0.90792463]\n",
      " [0.65668483 0.25488041]]\n"
     ]
    }
   ],
   "source": [
    "print(np.random.random((2, 2)))"
   ]
  },
  {
   "cell_type": "markdown",
   "metadata": {
    "colab_type": "text",
    "id": "aUnShRY7JxPV"
   },
   "source": [
    "Create an empty array:"
   ]
  },
  {
   "cell_type": "code",
   "execution_count": 2,
   "metadata": {
    "colab": {
     "base_uri": "https://localhost:8080/",
     "height": 69
    },
    "colab_type": "code",
    "id": "hpvw4wIiJ-v9",
    "outputId": "d5929a4b-a347-4c8f-b249-6f953afa30df"
   },
   "outputs": [
    {
     "name": "stdout",
     "output_type": "stream",
     "text": [
      "[[0. 0.]\n",
      " [0. 0.]\n",
      " [0. 0.]]\n"
     ]
    }
   ],
   "source": [
    "print(np.empty((3, 2)))"
   ]
  },
  {
   "cell_type": "markdown",
   "metadata": {
    "colab_type": "text",
    "id": "hsUuFn0DqWjo",
    "toc-hr-collapsed": true,
    "toc-nb-collapsed": true
   },
   "source": [
    "## I/O"
   ]
  },
  {
   "cell_type": "markdown",
   "metadata": {
    "colab_type": "text",
    "id": "FUYkHMJoqbP3"
   },
   "source": [
    "### Saving & Loading on Disk"
   ]
  },
  {
   "cell_type": "code",
   "execution_count": 21,
   "metadata": {
    "colab": {},
    "colab_type": "code",
    "id": "bBLdI8xAL170"
   },
   "outputs": [],
   "source": [
    "np.save(\"my_array\", a)\n",
    "#This code would not work at Google Colab."
   ]
  },
  {
   "cell_type": "markdown",
   "metadata": {
    "colab_type": "text",
    "id": "Vh4dntMBXYk7"
   },
   "source": [
    "The code above saves the array as a *.npy* file, that is a NumPy file."
   ]
  },
  {
   "cell_type": "code",
   "execution_count": 22,
   "metadata": {
    "colab": {},
    "colab_type": "code",
    "id": "UI4aDFcVL9zs"
   },
   "outputs": [],
   "source": [
    "np.savez(\"array.npz\", a , b)\n",
    "#This code would not work at Google Colab."
   ]
  },
  {
   "cell_type": "markdown",
   "metadata": {
    "colab_type": "text",
    "id": "O_A9zLBeOMQc"
   },
   "source": [
    "*np.savez* saves several arrays into a single file in uncompressed *.npz* format."
   ]
  },
  {
   "cell_type": "markdown",
   "metadata": {
    "colab_type": "text",
    "id": "HUTgnb-AXo2A"
   },
   "source": [
    "To load any *.npy* or *.npz* file:"
   ]
  },
  {
   "cell_type": "code",
   "execution_count": 23,
   "metadata": {
    "colab": {},
    "colab_type": "code",
    "id": "iAp3VLphMdlt"
   },
   "outputs": [
    {
     "data": {
      "text/plain": [
       "array([1, 2, 3])"
      ]
     },
     "execution_count": 23,
     "metadata": {},
     "output_type": "execute_result"
    }
   ],
   "source": [
    "np.load(\"my_array.npy\")\n",
    "#This code would not work at Google Colab."
   ]
  },
  {
   "cell_type": "markdown",
   "metadata": {
    "colab_type": "text",
    "id": "CLpFkr4vqhkj"
   },
   "source": [
    "###  Saving & Loading Text Files"
   ]
  },
  {
   "cell_type": "code",
   "execution_count": null,
   "metadata": {
    "colab": {},
    "colab_type": "code",
    "id": "vQTu88KJMoBV"
   },
   "outputs": [],
   "source": [
    "np.loadtxt(\"myfile.txt\")\n",
    "#This code would not work at Google Colab."
   ]
  },
  {
   "cell_type": "code",
   "execution_count": null,
   "metadata": {
    "colab": {},
    "colab_type": "code",
    "id": "2Wsc7QaMMxBn"
   },
   "outputs": [],
   "source": [
    "np.genfromtxt(\"my_file.csv\", delimiter = ',')\n",
    "#This code would not work at Google Colab."
   ]
  },
  {
   "cell_type": "code",
   "execution_count": null,
   "metadata": {
    "colab": {},
    "colab_type": "code",
    "id": "StaWhgxENBOs"
   },
   "outputs": [],
   "source": [
    "np.savetxt(\"my_array.txt\", a, delimiter = \" \")\n",
    "#This code would not work at Google Colab."
   ]
  },
  {
   "cell_type": "markdown",
   "metadata": {
    "colab_type": "text",
    "id": "0jcBvSY8qmCw",
    "toc-hr-collapsed": true,
    "toc-nb-collapsed": true
   },
   "source": [
    "## Data Types"
   ]
  },
  {
   "cell_type": "markdown",
   "metadata": {
    "colab_type": "text",
    "id": "cWsk779_ObRF"
   },
   "source": [
    "Signed 64-bit integer types:"
   ]
  },
  {
   "cell_type": "code",
   "execution_count": 25,
   "metadata": {
    "colab": {
     "base_uri": "https://localhost:8080/",
     "height": 34
    },
    "colab_type": "code",
    "id": "vU2OqrK2PWEC",
    "outputId": "f4b4814d-ad7b-483c-8b65-089c561537e5"
   },
   "outputs": [
    {
     "name": "stdout",
     "output_type": "stream",
     "text": [
      "<class 'numpy.int64'>\n"
     ]
    }
   ],
   "source": [
    "print(np.int64)"
   ]
  },
  {
   "cell_type": "markdown",
   "metadata": {
    "colab_type": "text",
    "id": "oFx7TjL3Obpu"
   },
   "source": [
    "Standard double-precision floating point:"
   ]
  },
  {
   "cell_type": "code",
   "execution_count": 26,
   "metadata": {
    "colab": {
     "base_uri": "https://localhost:8080/",
     "height": 34
    },
    "colab_type": "code",
    "id": "lXVMaC1CPWoQ",
    "outputId": "2c3f9eed-e346-4bca-a443-bc8980b29d75"
   },
   "outputs": [
    {
     "name": "stdout",
     "output_type": "stream",
     "text": [
      "<class 'numpy.float32'>\n"
     ]
    }
   ],
   "source": [
    "print(np.float32)"
   ]
  },
  {
   "cell_type": "markdown",
   "metadata": {
    "colab_type": "text",
    "id": "gi_zES0yObwL"
   },
   "source": [
    "Complex numbers represented by 128 floats:"
   ]
  },
  {
   "cell_type": "code",
   "execution_count": 27,
   "metadata": {
    "colab": {
     "base_uri": "https://localhost:8080/",
     "height": 34
    },
    "colab_type": "code",
    "id": "ayioAbW6PXd-",
    "outputId": "6d22c93e-a9e2-4fad-859f-014e80274516"
   },
   "outputs": [
    {
     "name": "stdout",
     "output_type": "stream",
     "text": [
      "<class 'complex'>\n"
     ]
    }
   ],
   "source": [
    "print(np.complex)"
   ]
  },
  {
   "cell_type": "markdown",
   "metadata": {
    "colab_type": "text",
    "id": "BxJdUf8rObzm"
   },
   "source": [
    "Boolean type storing True and False values:"
   ]
  },
  {
   "cell_type": "code",
   "execution_count": 28,
   "metadata": {
    "colab": {
     "base_uri": "https://localhost:8080/",
     "height": 34
    },
    "colab_type": "code",
    "id": "pikw-lBRPYEO",
    "outputId": "5c2b29c5-efe8-494c-ab56-572417240270"
   },
   "outputs": [
    {
     "name": "stdout",
     "output_type": "stream",
     "text": [
      "<class 'bool'>\n"
     ]
    }
   ],
   "source": [
    "print(np.bool)"
   ]
  },
  {
   "cell_type": "markdown",
   "metadata": {
    "colab_type": "text",
    "id": "HtEevNDqOb25"
   },
   "source": [
    "Python object type:"
   ]
  },
  {
   "cell_type": "code",
   "execution_count": 29,
   "metadata": {
    "colab": {
     "base_uri": "https://localhost:8080/",
     "height": 34
    },
    "colab_type": "code",
    "id": "9ex-Dn77PY4G",
    "outputId": "8df36362-4275-474d-e41f-8ae9cd086877"
   },
   "outputs": [
    {
     "name": "stdout",
     "output_type": "stream",
     "text": [
      "<class 'object'>\n"
     ]
    }
   ],
   "source": [
    "print(np.object)"
   ]
  },
  {
   "cell_type": "markdown",
   "metadata": {
    "colab_type": "text",
    "id": "ki8JGkF5Ob6B"
   },
   "source": [
    "Fixed-length string type:"
   ]
  },
  {
   "cell_type": "code",
   "execution_count": 30,
   "metadata": {
    "colab": {
     "base_uri": "https://localhost:8080/",
     "height": 34
    },
    "colab_type": "code",
    "id": "F0hKjK3KPZbU",
    "outputId": "96921998-9436-4faa-9bea-c4e1564d99fd"
   },
   "outputs": [
    {
     "name": "stdout",
     "output_type": "stream",
     "text": [
      "<class 'numpy.bytes_'>\n"
     ]
    }
   ],
   "source": [
    "print(np.string_)"
   ]
  },
  {
   "cell_type": "markdown",
   "metadata": {
    "colab_type": "text",
    "id": "0HV6bSTjOb87"
   },
   "source": [
    "Fixed-length unicode type:"
   ]
  },
  {
   "cell_type": "code",
   "execution_count": 31,
   "metadata": {
    "colab": {
     "base_uri": "https://localhost:8080/",
     "height": 34
    },
    "colab_type": "code",
    "id": "zUkboGZkPaRk",
    "outputId": "ab38b63b-9c48-4091-99f2-c4b7a25bdcfb"
   },
   "outputs": [
    {
     "name": "stdout",
     "output_type": "stream",
     "text": [
      "<class 'numpy.str_'>\n"
     ]
    }
   ],
   "source": [
    "print(np.unicode_)"
   ]
  },
  {
   "cell_type": "markdown",
   "metadata": {
    "colab_type": "text",
    "id": "5WmRUbKKQUR-"
   },
   "source": [
    "Unicode is a pattern that provides a unique number for every character, no matter what the platform, no matter what the program."
   ]
  },
  {
   "cell_type": "markdown",
   "metadata": {
    "colab_type": "text",
    "id": "3xqmV2kqqs-Y",
    "toc-hr-collapsed": true,
    "toc-nb-collapsed": true
   },
   "source": [
    "## Inspecting your Array"
   ]
  },
  {
   "cell_type": "markdown",
   "metadata": {
    "colab_type": "text",
    "id": "DjEQ6xULQg0E"
   },
   "source": [
    "Array dimensions:"
   ]
  },
  {
   "cell_type": "code",
   "execution_count": 32,
   "metadata": {
    "colab": {
     "base_uri": "https://localhost:8080/",
     "height": 34
    },
    "colab_type": "code",
    "id": "C63B8YHtQdZ2",
    "outputId": "0f194f5e-d561-48b7-f28d-2de60725160f"
   },
   "outputs": [
    {
     "name": "stdout",
     "output_type": "stream",
     "text": [
      "[1 2 3]\n",
      "(3,)\n"
     ]
    }
   ],
   "source": [
    "print(a)\n",
    "print(a.shape)"
   ]
  },
  {
   "cell_type": "markdown",
   "metadata": {
    "colab_type": "text",
    "id": "G3PFWg3sQkMC"
   },
   "source": [
    "Length of array (it calculates as the length of the outest list):"
   ]
  },
  {
   "cell_type": "code",
   "execution_count": 33,
   "metadata": {
    "colab": {
     "base_uri": "https://localhost:8080/",
     "height": 34
    },
    "colab_type": "code",
    "id": "Dxz1tvyvRIJB",
    "outputId": "c8ef80c3-5a1f-434d-ac51-17b535e595f1"
   },
   "outputs": [
    {
     "name": "stdout",
     "output_type": "stream",
     "text": [
      "3\n"
     ]
    }
   ],
   "source": [
    "print(len(a))"
   ]
  },
  {
   "cell_type": "code",
   "execution_count": 34,
   "metadata": {
    "colab": {
     "base_uri": "https://localhost:8080/",
     "height": 52
    },
    "colab_type": "code",
    "id": "hzBR3BlcRLRU",
    "outputId": "70c071ae-6956-4a4d-810a-39ed8428810a"
   },
   "outputs": [
    {
     "name": "stdout",
     "output_type": "stream",
     "text": [
      "[[1.5 2.  3. ]\n",
      " [4.  5.  6. ]]\n"
     ]
    }
   ],
   "source": [
    "print(b)"
   ]
  },
  {
   "cell_type": "code",
   "execution_count": 35,
   "metadata": {
    "colab": {
     "base_uri": "https://localhost:8080/",
     "height": 34
    },
    "colab_type": "code",
    "id": "cUD-bB1pRNpK",
    "outputId": "de6e0693-0bb9-432f-d624-937e96ef5a7b"
   },
   "outputs": [
    {
     "name": "stdout",
     "output_type": "stream",
     "text": [
      "2\n"
     ]
    }
   ],
   "source": [
    "print(len(b))"
   ]
  },
  {
   "cell_type": "markdown",
   "metadata": {
    "colab_type": "text",
    "id": "_aSYDZVdQli_"
   },
   "source": [
    "Number of array dimensions:"
   ]
  },
  {
   "cell_type": "code",
   "execution_count": 36,
   "metadata": {
    "colab": {
     "base_uri": "https://localhost:8080/",
     "height": 34
    },
    "colab_type": "code",
    "id": "CQyw7kKwRhu7",
    "outputId": "9ada36da-db82-429f-cd31-2c9ac182e039"
   },
   "outputs": [
    {
     "name": "stdout",
     "output_type": "stream",
     "text": [
      "2\n"
     ]
    }
   ],
   "source": [
    "print(b.ndim)"
   ]
  },
  {
   "cell_type": "markdown",
   "metadata": {
    "colab_type": "text",
    "id": "qmm0uSffQlu9"
   },
   "source": [
    "Number of array elements:"
   ]
  },
  {
   "cell_type": "code",
   "execution_count": 37,
   "metadata": {
    "colab": {
     "base_uri": "https://localhost:8080/",
     "height": 52
    },
    "colab_type": "code",
    "id": "q_o5pXdgRna5",
    "outputId": "6ec54733-6ce0-48f2-ad44-95c7d1dcbe4b"
   },
   "outputs": [
    {
     "name": "stdout",
     "output_type": "stream",
     "text": [
      "[[7 7]\n",
      " [7 7]]\n"
     ]
    }
   ],
   "source": [
    "print(e)"
   ]
  },
  {
   "cell_type": "code",
   "execution_count": 38,
   "metadata": {
    "colab": {
     "base_uri": "https://localhost:8080/",
     "height": 34
    },
    "colab_type": "code",
    "id": "81a6wkP_RrAd",
    "outputId": "ec8984c2-4475-4663-df2b-125e3d51928d"
   },
   "outputs": [
    {
     "name": "stdout",
     "output_type": "stream",
     "text": [
      "4\n"
     ]
    }
   ],
   "source": [
    "print(e.size)"
   ]
  },
  {
   "cell_type": "markdown",
   "metadata": {
    "colab_type": "text",
    "id": "XByW7zLYQl8V"
   },
   "source": [
    "Data type of array elements:"
   ]
  },
  {
   "cell_type": "code",
   "execution_count": 39,
   "metadata": {
    "colab": {
     "base_uri": "https://localhost:8080/",
     "height": 52
    },
    "colab_type": "code",
    "id": "xRml753YZAbp",
    "outputId": "f65db47e-30b8-4732-bc21-7784ba031b0d"
   },
   "outputs": [
    {
     "data": {
      "text/plain": [
       "array([[1.5, 2. , 3. ],\n",
       "       [4. , 5. , 6. ]])"
      ]
     },
     "execution_count": 39,
     "metadata": {},
     "output_type": "execute_result"
    }
   ],
   "source": [
    "b"
   ]
  },
  {
   "cell_type": "code",
   "execution_count": 40,
   "metadata": {
    "colab": {
     "base_uri": "https://localhost:8080/",
     "height": 34
    },
    "colab_type": "code",
    "id": "ObnQB1KnRudy",
    "outputId": "faa1eea6-bba5-4095-9808-e0eef3b4e11e"
   },
   "outputs": [
    {
     "data": {
      "text/plain": [
       "dtype('float64')"
      ]
     },
     "execution_count": 40,
     "metadata": {},
     "output_type": "execute_result"
    }
   ],
   "source": [
    "b.dtype"
   ]
  },
  {
   "cell_type": "markdown",
   "metadata": {
    "colab_type": "text",
    "id": "nR9tkiEWQmIz"
   },
   "source": [
    "Name of data type:"
   ]
  },
  {
   "cell_type": "code",
   "execution_count": 41,
   "metadata": {
    "colab": {
     "base_uri": "https://localhost:8080/",
     "height": 34
    },
    "colab_type": "code",
    "id": "EUPnI-7_R7GQ",
    "outputId": "15732b41-7988-4695-ffac-a3bf08993491"
   },
   "outputs": [
    {
     "data": {
      "text/plain": [
       "'float64'"
      ]
     },
     "execution_count": 41,
     "metadata": {},
     "output_type": "execute_result"
    }
   ],
   "source": [
    "b.dtype.name"
   ]
  },
  {
   "cell_type": "markdown",
   "metadata": {
    "colab_type": "text",
    "id": "zUSRuO8bQmUh"
   },
   "source": [
    "Convert an array to a different dtype:"
   ]
  },
  {
   "cell_type": "code",
   "execution_count": 42,
   "metadata": {
    "colab": {},
    "colab_type": "code",
    "id": "9tRhsudlR_jE"
   },
   "outputs": [],
   "source": [
    "temp = b.astype(int)"
   ]
  },
  {
   "cell_type": "code",
   "execution_count": 43,
   "metadata": {
    "colab": {
     "base_uri": "https://localhost:8080/",
     "height": 52
    },
    "colab_type": "code",
    "id": "q9dsrkmjZ6uV",
    "outputId": "cd0b3b87-f950-40b3-d4fb-2f76e5f1a25d"
   },
   "outputs": [
    {
     "data": {
      "text/plain": [
       "array([[1, 2, 3],\n",
       "       [4, 5, 6]])"
      ]
     },
     "execution_count": 43,
     "metadata": {},
     "output_type": "execute_result"
    }
   ],
   "source": [
    "temp"
   ]
  },
  {
   "cell_type": "code",
   "execution_count": 44,
   "metadata": {
    "colab": {
     "base_uri": "https://localhost:8080/",
     "height": 34
    },
    "colab_type": "code",
    "id": "xjuVDYJLZcQi",
    "outputId": "9de61258-058f-4de4-ad2b-d7043f8d8a2f"
   },
   "outputs": [
    {
     "data": {
      "text/plain": [
       "'int32'"
      ]
     },
     "execution_count": 44,
     "metadata": {},
     "output_type": "execute_result"
    }
   ],
   "source": [
    "temp.dtype.name"
   ]
  },
  {
   "cell_type": "markdown",
   "metadata": {
    "colab_type": "text",
    "id": "T6rKeLLYqw59",
    "toc-hr-collapsed": true,
    "toc-nb-collapsed": true
   },
   "source": [
    "## Asking for Help"
   ]
  },
  {
   "cell_type": "code",
   "execution_count": 45,
   "metadata": {
    "colab": {},
    "colab_type": "code",
    "id": "skzWK05PSHUE"
   },
   "outputs": [
    {
     "name": "stdout",
     "output_type": "stream",
     "text": [
      "Data-type of the array's elements.\n",
      "\n",
      "Parameters\n",
      "----------\n",
      "None\n",
      "\n",
      "Returns\n",
      "-------\n",
      "d : numpy dtype object\n",
      "\n",
      "See Also\n",
      "--------\n",
      "numpy.dtype\n",
      "\n",
      "Examples\n",
      "--------\n",
      ">>> x\n",
      "array([[0, 1],\n",
      "       [2, 3]])\n",
      ">>> x.dtype\n",
      "dtype('int32')\n",
      ">>> type(x.dtype)\n",
      "<type 'numpy.dtype'>\n"
     ]
    }
   ],
   "source": [
    "np.info(np.ndarray.dtype)"
   ]
  },
  {
   "cell_type": "markdown",
   "metadata": {
    "colab_type": "text",
    "id": "YrsP0MXGq0Rw",
    "toc-hr-collapsed": true,
    "toc-nb-collapsed": true
   },
   "source": [
    "## Array Mathematics"
   ]
  },
  {
   "cell_type": "markdown",
   "metadata": {
    "colab_type": "text",
    "id": "hCH3P9E8q4YK"
   },
   "source": [
    "### Arithmetic Operations"
   ]
  },
  {
   "cell_type": "markdown",
   "metadata": {
    "colab_type": "text",
    "id": "lDeuMnzZSaDU"
   },
   "source": [
    "Subtraction:"
   ]
  },
  {
   "cell_type": "code",
   "execution_count": 46,
   "metadata": {
    "colab": {
     "base_uri": "https://localhost:8080/",
     "height": 34
    },
    "colab_type": "code",
    "id": "FxrNVC7mTG8Z",
    "outputId": "f7d0018c-41cc-4eca-f30c-f5b63fca318b"
   },
   "outputs": [
    {
     "data": {
      "text/plain": [
       "array([1, 2, 3])"
      ]
     },
     "execution_count": 46,
     "metadata": {},
     "output_type": "execute_result"
    }
   ],
   "source": [
    "a"
   ]
  },
  {
   "cell_type": "code",
   "execution_count": 47,
   "metadata": {
    "colab": {
     "base_uri": "https://localhost:8080/",
     "height": 52
    },
    "colab_type": "code",
    "id": "g18tP_waTHFE",
    "outputId": "7fa905ab-d274-4f57-b669-76141bf5aed1"
   },
   "outputs": [
    {
     "data": {
      "text/plain": [
       "array([[1.5, 2. , 3. ],\n",
       "       [4. , 5. , 6. ]])"
      ]
     },
     "execution_count": 47,
     "metadata": {},
     "output_type": "execute_result"
    }
   ],
   "source": [
    "b"
   ]
  },
  {
   "cell_type": "code",
   "execution_count": 48,
   "metadata": {
    "colab": {},
    "colab_type": "code",
    "id": "o7k3OEZlTH6y"
   },
   "outputs": [],
   "source": [
    "g = a - b"
   ]
  },
  {
   "cell_type": "code",
   "execution_count": 49,
   "metadata": {
    "colab": {
     "base_uri": "https://localhost:8080/",
     "height": 52
    },
    "colab_type": "code",
    "id": "xSV73cuSTIdi",
    "outputId": "f331c861-a2f9-4c1d-f92c-76f09445cb32"
   },
   "outputs": [
    {
     "data": {
      "text/plain": [
       "array([[-0.5,  0. ,  0. ],\n",
       "       [-3. , -3. , -3. ]])"
      ]
     },
     "execution_count": 49,
     "metadata": {},
     "output_type": "execute_result"
    }
   ],
   "source": [
    "g"
   ]
  },
  {
   "cell_type": "markdown",
   "metadata": {
    "colab_type": "text",
    "id": "HThPA6EySaA_"
   },
   "source": [
    "Subtraction:"
   ]
  },
  {
   "cell_type": "code",
   "execution_count": 50,
   "metadata": {
    "colab": {
     "base_uri": "https://localhost:8080/",
     "height": 52
    },
    "colab_type": "code",
    "id": "jvJhBCJ1TV04",
    "outputId": "b8f0720b-ff26-44de-bc4b-5e092f9b7ef0"
   },
   "outputs": [
    {
     "data": {
      "text/plain": [
       "array([[-0.5,  0. ,  0. ],\n",
       "       [-3. , -3. , -3. ]])"
      ]
     },
     "execution_count": 50,
     "metadata": {},
     "output_type": "execute_result"
    }
   ],
   "source": [
    "np.subtract(a, b)"
   ]
  },
  {
   "cell_type": "markdown",
   "metadata": {
    "colab_type": "text",
    "id": "X09PEf9NSZ-g"
   },
   "source": [
    "Addition:"
   ]
  },
  {
   "cell_type": "code",
   "execution_count": 51,
   "metadata": {
    "colab": {
     "base_uri": "https://localhost:8080/",
     "height": 52
    },
    "colab_type": "code",
    "id": "_B07FPNDTah3",
    "outputId": "9a1d9994-5567-4221-9967-aab991969dfa"
   },
   "outputs": [
    {
     "data": {
      "text/plain": [
       "array([[2.5, 4. , 6. ],\n",
       "       [5. , 7. , 9. ]])"
      ]
     },
     "execution_count": 51,
     "metadata": {},
     "output_type": "execute_result"
    }
   ],
   "source": [
    "b + a"
   ]
  },
  {
   "cell_type": "markdown",
   "metadata": {
    "colab_type": "text",
    "id": "1focpBQzSZ74"
   },
   "source": [
    "Addition:"
   ]
  },
  {
   "cell_type": "code",
   "execution_count": 52,
   "metadata": {
    "colab": {
     "base_uri": "https://localhost:8080/",
     "height": 52
    },
    "colab_type": "code",
    "id": "5pW-tuHFThTU",
    "outputId": "69285af9-ef0d-4968-9949-db3a9709158b"
   },
   "outputs": [
    {
     "data": {
      "text/plain": [
       "array([[2.5, 4. , 6. ],\n",
       "       [5. , 7. , 9. ]])"
      ]
     },
     "execution_count": 52,
     "metadata": {},
     "output_type": "execute_result"
    }
   ],
   "source": [
    "np.add(b, a)"
   ]
  },
  {
   "cell_type": "markdown",
   "metadata": {
    "colab_type": "text",
    "id": "9mN9Sy69SZ5g"
   },
   "source": [
    "Division:"
   ]
  },
  {
   "cell_type": "code",
   "execution_count": 53,
   "metadata": {
    "colab": {
     "base_uri": "https://localhost:8080/",
     "height": 52
    },
    "colab_type": "code",
    "id": "1RkBAdFITl36",
    "outputId": "fb09ed46-a954-462a-eb4f-ae6f435733f0"
   },
   "outputs": [
    {
     "data": {
      "text/plain": [
       "array([[0.66666667, 1.        , 1.        ],\n",
       "       [0.25      , 0.4       , 0.5       ]])"
      ]
     },
     "execution_count": 53,
     "metadata": {},
     "output_type": "execute_result"
    }
   ],
   "source": [
    "a / b"
   ]
  },
  {
   "cell_type": "code",
   "execution_count": 54,
   "metadata": {
    "colab": {
     "base_uri": "https://localhost:8080/",
     "height": 52
    },
    "colab_type": "code",
    "id": "21id1GPrTsJW",
    "outputId": "c0bde55d-9115-403f-d40f-f4ac6b4c929f"
   },
   "outputs": [
    {
     "data": {
      "text/plain": [
       "array([[0.66666667, 1.        , 1.        ],\n",
       "       [0.25      , 0.4       , 0.5       ]])"
      ]
     },
     "execution_count": 54,
     "metadata": {},
     "output_type": "execute_result"
    }
   ],
   "source": [
    "np.divide(a, b)"
   ]
  },
  {
   "cell_type": "code",
   "execution_count": 55,
   "metadata": {
    "colab": {
     "base_uri": "https://localhost:8080/",
     "height": 52
    },
    "colab_type": "code",
    "id": "OUDCvcyqaY9r",
    "outputId": "98d4b14b-a845-4cf8-a45f-43f4ac8c6068"
   },
   "outputs": [
    {
     "data": {
      "text/plain": [
       "array([[0., 1., 1.],\n",
       "       [0., 0., 0.]])"
      ]
     },
     "execution_count": 55,
     "metadata": {},
     "output_type": "execute_result"
    }
   ],
   "source": [
    "a // b"
   ]
  },
  {
   "cell_type": "code",
   "execution_count": 56,
   "metadata": {
    "colab": {
     "base_uri": "https://localhost:8080/",
     "height": 52
    },
    "colab_type": "code",
    "id": "QIYwxl2aaflZ",
    "outputId": "ea9e50ca-7ab7-4643-e159-4db372bf844a"
   },
   "outputs": [
    {
     "data": {
      "text/plain": [
       "array([[1., 0., 0.],\n",
       "       [1., 2., 3.]])"
      ]
     },
     "execution_count": 56,
     "metadata": {},
     "output_type": "execute_result"
    }
   ],
   "source": [
    "a % b"
   ]
  },
  {
   "cell_type": "markdown",
   "metadata": {
    "colab_type": "text",
    "id": "H2cQz64ISZpb"
   },
   "source": [
    "Multiplication:"
   ]
  },
  {
   "cell_type": "code",
   "execution_count": 57,
   "metadata": {
    "colab": {
     "base_uri": "https://localhost:8080/",
     "height": 52
    },
    "colab_type": "code",
    "id": "KOu-_H4dTxgw",
    "outputId": "cd02ea48-6b90-4fce-8ad8-eadb4199796b"
   },
   "outputs": [
    {
     "data": {
      "text/plain": [
       "array([[ 1.5,  4. ,  9. ],\n",
       "       [ 4. , 10. , 18. ]])"
      ]
     },
     "execution_count": 57,
     "metadata": {},
     "output_type": "execute_result"
    }
   ],
   "source": [
    "a * b"
   ]
  },
  {
   "cell_type": "code",
   "execution_count": 58,
   "metadata": {
    "colab": {
     "base_uri": "https://localhost:8080/",
     "height": 52
    },
    "colab_type": "code",
    "id": "Qk234DUSUdN1",
    "outputId": "183786e3-c504-46df-c45f-24be93263388"
   },
   "outputs": [
    {
     "data": {
      "text/plain": [
       "array([[ 1.5,  4. ,  9. ],\n",
       "       [ 4. , 10. , 18. ]])"
      ]
     },
     "execution_count": 58,
     "metadata": {},
     "output_type": "execute_result"
    }
   ],
   "source": [
    "np.multiply(a, b)"
   ]
  },
  {
   "cell_type": "markdown",
   "metadata": {
    "colab_type": "text",
    "id": "xzfEDtdNSZjv"
   },
   "source": [
    "Exponentiation (for each element, it takes *e* to the power of the element, i. e. *e* is the exponentiation base):"
   ]
  },
  {
   "cell_type": "code",
   "execution_count": 59,
   "metadata": {
    "colab": {
     "base_uri": "https://localhost:8080/",
     "height": 52
    },
    "colab_type": "code",
    "id": "-u0GYSccUkIP",
    "outputId": "c6c71e6c-d07d-4aec-a2a4-7c58a8be0674"
   },
   "outputs": [
    {
     "data": {
      "text/plain": [
       "array([[1.5, 2. , 3. ],\n",
       "       [4. , 5. , 6. ]])"
      ]
     },
     "execution_count": 59,
     "metadata": {},
     "output_type": "execute_result"
    }
   ],
   "source": [
    "b"
   ]
  },
  {
   "cell_type": "code",
   "execution_count": 60,
   "metadata": {
    "colab": {
     "base_uri": "https://localhost:8080/",
     "height": 52
    },
    "colab_type": "code",
    "id": "FWdJcA6vUsgW",
    "outputId": "e43a551b-9ba5-4f09-8492-f17e088cf273"
   },
   "outputs": [
    {
     "data": {
      "text/plain": [
       "array([[  4.48168907,   7.3890561 ,  20.08553692],\n",
       "       [ 54.59815003, 148.4131591 , 403.42879349]])"
      ]
     },
     "execution_count": 60,
     "metadata": {},
     "output_type": "execute_result"
    }
   ],
   "source": [
    "np.exp(b)"
   ]
  },
  {
   "cell_type": "markdown",
   "metadata": {
    "colab_type": "text",
    "id": "-iq8uqPHSZg0"
   },
   "source": [
    "Square root:"
   ]
  },
  {
   "cell_type": "code",
   "execution_count": 61,
   "metadata": {
    "colab": {
     "base_uri": "https://localhost:8080/",
     "height": 52
    },
    "colab_type": "code",
    "id": "rFjmx8UPWF99",
    "outputId": "368e2e45-e9c1-4c58-91c5-974de4d7de7e"
   },
   "outputs": [
    {
     "data": {
      "text/plain": [
       "array([[1.22474487, 1.41421356, 1.73205081],\n",
       "       [2.        , 2.23606798, 2.44948974]])"
      ]
     },
     "execution_count": 61,
     "metadata": {},
     "output_type": "execute_result"
    }
   ],
   "source": [
    "np.sqrt(b)"
   ]
  },
  {
   "cell_type": "markdown",
   "metadata": {
    "colab_type": "text",
    "id": "VOBxiu1fSZd-"
   },
   "source": [
    "Sines:"
   ]
  },
  {
   "cell_type": "code",
   "execution_count": 62,
   "metadata": {
    "colab": {
     "base_uri": "https://localhost:8080/",
     "height": 34
    },
    "colab_type": "code",
    "id": "2wCSnAsdWTlh",
    "outputId": "064465b9-1380-4933-f4b1-fa4a1c1338f7"
   },
   "outputs": [
    {
     "data": {
      "text/plain": [
       "array([1, 2, 3])"
      ]
     },
     "execution_count": 62,
     "metadata": {},
     "output_type": "execute_result"
    }
   ],
   "source": [
    "a"
   ]
  },
  {
   "cell_type": "code",
   "execution_count": 65,
   "metadata": {
    "colab": {
     "base_uri": "https://localhost:8080/",
     "height": 34
    },
    "colab_type": "code",
    "id": "2R-b3zziWPH7",
    "outputId": "14a6e30e-b307-4475-bcde-545ee03e0d79"
   },
   "outputs": [
    {
     "data": {
      "text/plain": [
       "array([0.84147098, 0.90929743, 0.14112001])"
      ]
     },
     "execution_count": 65,
     "metadata": {},
     "output_type": "execute_result"
    }
   ],
   "source": [
    "np.sin(a)"
   ]
  },
  {
   "cell_type": "markdown",
   "metadata": {
    "colab_type": "text",
    "id": "WEkNj1JsSZZ7"
   },
   "source": [
    "Cosine:"
   ]
  },
  {
   "cell_type": "code",
   "execution_count": 66,
   "metadata": {
    "colab": {
     "base_uri": "https://localhost:8080/",
     "height": 52
    },
    "colab_type": "code",
    "id": "e9w6m9W4WXs8",
    "outputId": "49cfa768-8f71-4fc4-ca2c-5afb6d7adafc"
   },
   "outputs": [
    {
     "data": {
      "text/plain": [
       "array([[1.5, 2. , 3. ],\n",
       "       [4. , 5. , 6. ]])"
      ]
     },
     "execution_count": 66,
     "metadata": {},
     "output_type": "execute_result"
    }
   ],
   "source": [
    "b"
   ]
  },
  {
   "cell_type": "code",
   "execution_count": 67,
   "metadata": {
    "colab": {
     "base_uri": "https://localhost:8080/",
     "height": 52
    },
    "colab_type": "code",
    "id": "EyISEX9fWaDa",
    "outputId": "797eb038-cdef-464b-cf2c-5ec421492891"
   },
   "outputs": [
    {
     "data": {
      "text/plain": [
       "array([[ 0.0707372 , -0.41614684, -0.9899925 ],\n",
       "       [-0.65364362,  0.28366219,  0.96017029]])"
      ]
     },
     "execution_count": 67,
     "metadata": {},
     "output_type": "execute_result"
    }
   ],
   "source": [
    "np.cos(b)"
   ]
  },
  {
   "cell_type": "markdown",
   "metadata": {
    "colab_type": "text",
    "id": "BECAgYI3SZCF"
   },
   "source": [
    "Natural logarithm:"
   ]
  },
  {
   "cell_type": "code",
   "execution_count": 68,
   "metadata": {
    "colab": {
     "base_uri": "https://localhost:8080/",
     "height": 34
    },
    "colab_type": "code",
    "id": "6jNLiZjUWnG5",
    "outputId": "d5686055-52f5-4d9d-ce30-e79e5268a10b"
   },
   "outputs": [
    {
     "data": {
      "text/plain": [
       "array([1, 2, 3])"
      ]
     },
     "execution_count": 68,
     "metadata": {},
     "output_type": "execute_result"
    }
   ],
   "source": [
    "a"
   ]
  },
  {
   "cell_type": "code",
   "execution_count": 69,
   "metadata": {
    "colab": {
     "base_uri": "https://localhost:8080/",
     "height": 34
    },
    "colab_type": "code",
    "id": "d4GE5jJ1WhI6",
    "outputId": "926d0de1-5fda-4ac0-ccb2-c9ee45f1ba1b"
   },
   "outputs": [
    {
     "data": {
      "text/plain": [
       "array([0.        , 0.69314718, 1.09861229])"
      ]
     },
     "execution_count": 69,
     "metadata": {},
     "output_type": "execute_result"
    }
   ],
   "source": [
    "np.log(a)"
   ]
  },
  {
   "cell_type": "markdown",
   "metadata": {
    "colab_type": "text",
    "id": "M1LamaCnq8yy"
   },
   "source": [
    "### Comparison"
   ]
  },
  {
   "cell_type": "markdown",
   "metadata": {
    "colab_type": "text",
    "id": "lIPnuxHOXfQv"
   },
   "source": [
    "Element-wise comparison:"
   ]
  },
  {
   "cell_type": "code",
   "execution_count": 70,
   "metadata": {
    "colab": {
     "base_uri": "https://localhost:8080/",
     "height": 34
    },
    "colab_type": "code",
    "id": "v8h_aSscXYKd",
    "outputId": "4709a657-3afc-4dba-859a-8031b6158ff3"
   },
   "outputs": [
    {
     "data": {
      "text/plain": [
       "array([1, 2, 3])"
      ]
     },
     "execution_count": 70,
     "metadata": {},
     "output_type": "execute_result"
    }
   ],
   "source": [
    "a"
   ]
  },
  {
   "cell_type": "code",
   "execution_count": 71,
   "metadata": {
    "colab": {
     "base_uri": "https://localhost:8080/",
     "height": 52
    },
    "colab_type": "code",
    "id": "ps-MkGfAXufm",
    "outputId": "e57fd2e3-f56d-4377-dbf5-6f242fab13c0"
   },
   "outputs": [
    {
     "data": {
      "text/plain": [
       "array([[1.5, 2. , 3. ],\n",
       "       [4. , 5. , 6. ]])"
      ]
     },
     "execution_count": 71,
     "metadata": {},
     "output_type": "execute_result"
    }
   ],
   "source": [
    "b"
   ]
  },
  {
   "cell_type": "code",
   "execution_count": 72,
   "metadata": {
    "colab": {
     "base_uri": "https://localhost:8080/",
     "height": 52
    },
    "colab_type": "code",
    "id": "dsNX73cPXvji",
    "outputId": "ad16e0ed-a6d1-48cd-cd9e-fabe8ee1582a"
   },
   "outputs": [
    {
     "data": {
      "text/plain": [
       "array([[False,  True,  True],\n",
       "       [False, False, False]])"
      ]
     },
     "execution_count": 72,
     "metadata": {},
     "output_type": "execute_result"
    }
   ],
   "source": [
    "a == b"
   ]
  },
  {
   "cell_type": "markdown",
   "metadata": {
    "colab_type": "text",
    "id": "mnjUHYpiXjEY"
   },
   "source": [
    "Element-wise comparison:"
   ]
  },
  {
   "cell_type": "code",
   "execution_count": 73,
   "metadata": {
    "colab": {
     "base_uri": "https://localhost:8080/",
     "height": 34
    },
    "colab_type": "code",
    "id": "lEzwnK9LXsPg",
    "outputId": "32ddef34-bc97-49c5-b7f2-ea6515b38443"
   },
   "outputs": [
    {
     "data": {
      "text/plain": [
       "array([ True, False, False])"
      ]
     },
     "execution_count": 73,
     "metadata": {},
     "output_type": "execute_result"
    }
   ],
   "source": [
    "a < 2"
   ]
  },
  {
   "cell_type": "markdown",
   "metadata": {
    "colab_type": "text",
    "id": "f1gxtA7NXotQ"
   },
   "source": [
    "Array-wise comparison:"
   ]
  },
  {
   "cell_type": "code",
   "execution_count": 74,
   "metadata": {
    "colab": {
     "base_uri": "https://localhost:8080/",
     "height": 34
    },
    "colab_type": "code",
    "id": "plHnbBEqXsz-",
    "outputId": "75a913a6-f211-4382-d9bf-3a264910fbc9"
   },
   "outputs": [
    {
     "data": {
      "text/plain": [
       "False"
      ]
     },
     "execution_count": 74,
     "metadata": {},
     "output_type": "execute_result"
    }
   ],
   "source": [
    "np.array_equal(a, b)"
   ]
  },
  {
   "cell_type": "markdown",
   "metadata": {
    "colab_type": "text",
    "id": "QDirL8OMq_b8"
   },
   "source": [
    "### Aggregate Functions"
   ]
  },
  {
   "cell_type": "markdown",
   "metadata": {
    "colab_type": "text",
    "id": "9kDufV8FYRMR"
   },
   "source": [
    "Array-wise sum:"
   ]
  },
  {
   "cell_type": "code",
   "execution_count": 75,
   "metadata": {
    "colab": {
     "base_uri": "https://localhost:8080/",
     "height": 34
    },
    "colab_type": "code",
    "id": "ddqV8Sy5Yyv-",
    "outputId": "6b7657b2-6164-4319-cb2a-f58c5c3ccc4e"
   },
   "outputs": [
    {
     "data": {
      "text/plain": [
       "array([1, 2, 3])"
      ]
     },
     "execution_count": 75,
     "metadata": {},
     "output_type": "execute_result"
    }
   ],
   "source": [
    "a"
   ]
  },
  {
   "cell_type": "code",
   "execution_count": 76,
   "metadata": {
    "colab": {
     "base_uri": "https://localhost:8080/",
     "height": 34
    },
    "colab_type": "code",
    "id": "HioqJEB4Y5k_",
    "outputId": "778851e8-3372-4b5b-b996-9d2b7e9d3e0e"
   },
   "outputs": [
    {
     "data": {
      "text/plain": [
       "6"
      ]
     },
     "execution_count": 76,
     "metadata": {},
     "output_type": "execute_result"
    }
   ],
   "source": [
    "a.sum()"
   ]
  },
  {
   "cell_type": "markdown",
   "metadata": {
    "colab_type": "text",
    "id": "ZbjeeiKgYRT1"
   },
   "source": [
    "Array-wise minimum value:"
   ]
  },
  {
   "cell_type": "code",
   "execution_count": 77,
   "metadata": {
    "colab": {
     "base_uri": "https://localhost:8080/",
     "height": 34
    },
    "colab_type": "code",
    "id": "zOsRD-CfYz6C",
    "outputId": "61371893-2dc2-49c6-93e3-6919df98bf8b"
   },
   "outputs": [
    {
     "data": {
      "text/plain": [
       "1"
      ]
     },
     "execution_count": 77,
     "metadata": {},
     "output_type": "execute_result"
    }
   ],
   "source": [
    "a.min()"
   ]
  },
  {
   "cell_type": "markdown",
   "metadata": {
    "colab_type": "text",
    "id": "sl7WUGbDYRca"
   },
   "source": [
    "Maximum value of an array row:"
   ]
  },
  {
   "cell_type": "code",
   "execution_count": 78,
   "metadata": {
    "colab": {
     "base_uri": "https://localhost:8080/",
     "height": 52
    },
    "colab_type": "code",
    "id": "yXNbiaHVY0il",
    "outputId": "311eec17-a885-43e0-ac8d-ddbe0c21c536"
   },
   "outputs": [
    {
     "data": {
      "text/plain": [
       "array([[1.5, 2. , 3. ],\n",
       "       [4. , 5. , 6. ]])"
      ]
     },
     "execution_count": 78,
     "metadata": {},
     "output_type": "execute_result"
    }
   ],
   "source": [
    "b"
   ]
  },
  {
   "cell_type": "code",
   "execution_count": 79,
   "metadata": {
    "colab": {
     "base_uri": "https://localhost:8080/",
     "height": 34
    },
    "colab_type": "code",
    "id": "2HnCc9NxZFHD",
    "outputId": "b7509766-9326-4f3d-8392-89e64abc8470"
   },
   "outputs": [
    {
     "data": {
      "text/plain": [
       "array([4., 5., 6.])"
      ]
     },
     "execution_count": 79,
     "metadata": {},
     "output_type": "execute_result"
    }
   ],
   "source": [
    "b.max(axis = 0)"
   ]
  },
  {
   "cell_type": "code",
   "execution_count": 80,
   "metadata": {
    "colab": {
     "base_uri": "https://localhost:8080/",
     "height": 34
    },
    "colab_type": "code",
    "id": "x3cr20ZafCjm",
    "outputId": "78157c99-1804-483f-e81d-87da111b864b"
   },
   "outputs": [
    {
     "data": {
      "text/plain": [
       "array([3., 6.])"
      ]
     },
     "execution_count": 80,
     "metadata": {},
     "output_type": "execute_result"
    }
   ],
   "source": [
    "b.max(axis = 1)"
   ]
  },
  {
   "cell_type": "markdown",
   "metadata": {
    "colab_type": "text",
    "id": "6iyAPjS9YRtG"
   },
   "source": [
    "Cumulative sum of the elements:"
   ]
  },
  {
   "cell_type": "code",
   "execution_count": 81,
   "metadata": {
    "colab": {
     "base_uri": "https://localhost:8080/",
     "height": 52
    },
    "colab_type": "code",
    "id": "KHN1NcsMY1GS",
    "outputId": "4fb89ddd-fe09-449f-db39-2191817854d7"
   },
   "outputs": [
    {
     "data": {
      "text/plain": [
       "array([[ 1.5,  3.5,  6.5],\n",
       "       [ 4. ,  9. , 15. ]])"
      ]
     },
     "execution_count": 81,
     "metadata": {},
     "output_type": "execute_result"
    }
   ],
   "source": [
    "b.cumsum(axis = 1)"
   ]
  },
  {
   "cell_type": "markdown",
   "metadata": {
    "colab_type": "text",
    "id": "R_LfGLmKYR7p"
   },
   "source": [
    "Mean:"
   ]
  },
  {
   "cell_type": "code",
   "execution_count": 82,
   "metadata": {
    "colab": {
     "base_uri": "https://localhost:8080/",
     "height": 34
    },
    "colab_type": "code",
    "id": "SVndU6z8Y1q5",
    "outputId": "841f9a4e-be54-4724-d812-20db049b5c1a"
   },
   "outputs": [
    {
     "data": {
      "text/plain": [
       "array([1, 2, 3])"
      ]
     },
     "execution_count": 82,
     "metadata": {},
     "output_type": "execute_result"
    }
   ],
   "source": [
    "a"
   ]
  },
  {
   "cell_type": "code",
   "execution_count": 83,
   "metadata": {
    "colab": {
     "base_uri": "https://localhost:8080/",
     "height": 34
    },
    "colab_type": "code",
    "id": "wrqzRiE9Zjzj",
    "outputId": "f848ff58-5132-41bd-fa81-f18e377f6d12"
   },
   "outputs": [
    {
     "data": {
      "text/plain": [
       "2.0"
      ]
     },
     "execution_count": 83,
     "metadata": {},
     "output_type": "execute_result"
    }
   ],
   "source": [
    "a.mean()"
   ]
  },
  {
   "cell_type": "code",
   "execution_count": 84,
   "metadata": {
    "colab": {
     "base_uri": "https://localhost:8080/",
     "height": 52
    },
    "colab_type": "code",
    "id": "rjzFhJWAaySu",
    "outputId": "990783da-477c-49b3-b3bf-d3c646568eb1"
   },
   "outputs": [
    {
     "data": {
      "text/plain": [
       "array([[1.5, 2. , 3. ],\n",
       "       [4. , 5. , 6. ]])"
      ]
     },
     "execution_count": 84,
     "metadata": {},
     "output_type": "execute_result"
    }
   ],
   "source": [
    "b"
   ]
  },
  {
   "cell_type": "code",
   "execution_count": 85,
   "metadata": {
    "colab": {
     "base_uri": "https://localhost:8080/",
     "height": 34
    },
    "colab_type": "code",
    "id": "fLThMp7mazw7",
    "outputId": "f4bb4d38-8e4a-4553-c9d0-36e938114fbb"
   },
   "outputs": [
    {
     "data": {
      "text/plain": [
       "3.5833333333333335"
      ]
     },
     "execution_count": 85,
     "metadata": {},
     "output_type": "execute_result"
    }
   ],
   "source": [
    "b.mean()"
   ]
  },
  {
   "cell_type": "code",
   "execution_count": 86,
   "metadata": {
    "colab": {
     "base_uri": "https://localhost:8080/",
     "height": 34
    },
    "colab_type": "code",
    "id": "RhFhfEmgfq0H",
    "outputId": "e71fe602-ee8a-4d9d-f246-8a8881c2a218"
   },
   "outputs": [
    {
     "data": {
      "text/plain": [
       "array([2.75, 3.5 , 4.5 ])"
      ]
     },
     "execution_count": 86,
     "metadata": {},
     "output_type": "execute_result"
    }
   ],
   "source": [
    "b.mean(axis = 0)"
   ]
  },
  {
   "cell_type": "code",
   "execution_count": 87,
   "metadata": {
    "colab": {
     "base_uri": "https://localhost:8080/",
     "height": 34
    },
    "colab_type": "code",
    "id": "XRsoL7aWfuuw",
    "outputId": "6bf2ea4a-bb20-4a59-8072-83cb65002c08"
   },
   "outputs": [
    {
     "data": {
      "text/plain": [
       "array([2.75, 3.5 , 4.5 ])"
      ]
     },
     "execution_count": 87,
     "metadata": {},
     "output_type": "execute_result"
    }
   ],
   "source": [
    "np.mean(b, axis = 0)"
   ]
  },
  {
   "cell_type": "markdown",
   "metadata": {
    "colab_type": "text",
    "id": "z86yXYZHYSYo"
   },
   "source": [
    "Standard deviation:"
   ]
  },
  {
   "cell_type": "code",
   "execution_count": 88,
   "metadata": {
    "colab": {
     "base_uri": "https://localhost:8080/",
     "height": 52
    },
    "colab_type": "code",
    "id": "DV9vKw8FalZ9",
    "outputId": "fbefa44e-63b2-4316-ac45-b7acea427950"
   },
   "outputs": [
    {
     "data": {
      "text/plain": [
       "array([[1.5, 2. , 3. ],\n",
       "       [4. , 5. , 6. ]])"
      ]
     },
     "execution_count": 88,
     "metadata": {},
     "output_type": "execute_result"
    }
   ],
   "source": [
    "b"
   ]
  },
  {
   "cell_type": "code",
   "execution_count": 89,
   "metadata": {
    "colab": {
     "base_uri": "https://localhost:8080/",
     "height": 34
    },
    "colab_type": "code",
    "id": "a2o68A2HgDlj",
    "outputId": "18444109-9870-44e4-cb0f-a639b1080182"
   },
   "outputs": [
    {
     "data": {
      "text/plain": [
       "1.5920810978785667"
      ]
     },
     "execution_count": 89,
     "metadata": {},
     "output_type": "execute_result"
    }
   ],
   "source": [
    "b.std()"
   ]
  },
  {
   "cell_type": "code",
   "execution_count": 90,
   "metadata": {
    "colab": {
     "base_uri": "https://localhost:8080/",
     "height": 34
    },
    "colab_type": "code",
    "id": "iIktwa85gL0w",
    "outputId": "9ca622a7-8f99-4545-a4c7-6500c5321ffe"
   },
   "outputs": [
    {
     "data": {
      "text/plain": [
       "array([1.25, 1.5 , 1.5 ])"
      ]
     },
     "execution_count": 90,
     "metadata": {},
     "output_type": "execute_result"
    }
   ],
   "source": [
    "b.std(axis = 0)"
   ]
  },
  {
   "cell_type": "code",
   "execution_count": 91,
   "metadata": {
    "colab": {
     "base_uri": "https://localhost:8080/",
     "height": 34
    },
    "colab_type": "code",
    "id": "ZupZmQ8zYQHW",
    "outputId": "adbb5d25-1f35-4a3b-c0f9-58373cc632bc"
   },
   "outputs": [
    {
     "data": {
      "text/plain": [
       "array([1.25, 1.5 , 1.5 ])"
      ]
     },
     "execution_count": 91,
     "metadata": {},
     "output_type": "execute_result"
    }
   ],
   "source": [
    "np.std(b, axis = 0)"
   ]
  },
  {
   "cell_type": "markdown",
   "metadata": {
    "colab_type": "text",
    "id": "0m1iH9LPrEd_",
    "toc-hr-collapsed": true,
    "toc-nb-collapsed": true
   },
   "source": [
    "## Copying Arrays"
   ]
  },
  {
   "cell_type": "markdown",
   "metadata": {
    "colab_type": "text",
    "id": "W_QBv1oqa-SI"
   },
   "source": [
    "Create a view of the array with the same data (a view, in this case, is an exact copy of the original, with the same data type):"
   ]
  },
  {
   "cell_type": "code",
   "execution_count": 92,
   "metadata": {
    "colab": {
     "base_uri": "https://localhost:8080/",
     "height": 34
    },
    "colab_type": "code",
    "id": "I8iSMQm8bRCG",
    "outputId": "3c935a0b-a1b3-49ac-df82-197b792dbdd5"
   },
   "outputs": [
    {
     "data": {
      "text/plain": [
       "array([1, 2, 3])"
      ]
     },
     "execution_count": 92,
     "metadata": {},
     "output_type": "execute_result"
    }
   ],
   "source": [
    "a"
   ]
  },
  {
   "cell_type": "code",
   "execution_count": 93,
   "metadata": {
    "colab": {
     "base_uri": "https://localhost:8080/",
     "height": 34
    },
    "colab_type": "code",
    "id": "eeffSP5wbXEy",
    "outputId": "3fbfd95a-a2ca-4a35-986f-34778e1661d2"
   },
   "outputs": [
    {
     "data": {
      "text/plain": [
       "numpy.ndarray"
      ]
     },
     "execution_count": 93,
     "metadata": {},
     "output_type": "execute_result"
    }
   ],
   "source": [
    "type(a)"
   ]
  },
  {
   "cell_type": "code",
   "execution_count": 94,
   "metadata": {
    "colab": {},
    "colab_type": "code",
    "id": "sdQZgAo9bNOD"
   },
   "outputs": [],
   "source": [
    "h = a.view()"
   ]
  },
  {
   "cell_type": "code",
   "execution_count": 95,
   "metadata": {
    "colab": {
     "base_uri": "https://localhost:8080/",
     "height": 34
    },
    "colab_type": "code",
    "id": "t8j9c2MLbTLE",
    "outputId": "626c8c82-9eff-4486-83bf-7e8482bcfa89"
   },
   "outputs": [
    {
     "data": {
      "text/plain": [
       "array([1, 2, 3])"
      ]
     },
     "execution_count": 95,
     "metadata": {},
     "output_type": "execute_result"
    }
   ],
   "source": [
    "h"
   ]
  },
  {
   "cell_type": "code",
   "execution_count": 96,
   "metadata": {
    "colab": {
     "base_uri": "https://localhost:8080/",
     "height": 34
    },
    "colab_type": "code",
    "id": "t6TUYNfobd4h",
    "outputId": "6841b5dc-2d57-44a7-c630-b1d9432ec30d"
   },
   "outputs": [
    {
     "data": {
      "text/plain": [
       "numpy.ndarray"
      ]
     },
     "execution_count": 96,
     "metadata": {},
     "output_type": "execute_result"
    }
   ],
   "source": [
    "type(h)"
   ]
  },
  {
   "cell_type": "markdown",
   "metadata": {
    "colab_type": "text",
    "id": "te80OUnra-a2"
   },
   "source": [
    "Create a copy of the array:"
   ]
  },
  {
   "cell_type": "code",
   "execution_count": 97,
   "metadata": {
    "colab": {},
    "colab_type": "code",
    "id": "n4DxZdfHcD3v"
   },
   "outputs": [],
   "source": [
    "h = np.copy(a)"
   ]
  },
  {
   "cell_type": "code",
   "execution_count": 98,
   "metadata": {
    "colab": {
     "base_uri": "https://localhost:8080/",
     "height": 34
    },
    "colab_type": "code",
    "id": "zh4jj7LOcLVL",
    "outputId": "dca750a5-f5ba-4d4b-f4f1-674aab24397a"
   },
   "outputs": [
    {
     "data": {
      "text/plain": [
       "array([1, 2, 3])"
      ]
     },
     "execution_count": 98,
     "metadata": {},
     "output_type": "execute_result"
    }
   ],
   "source": [
    "h"
   ]
  },
  {
   "cell_type": "code",
   "execution_count": 100,
   "metadata": {
    "colab": {
     "base_uri": "https://localhost:8080/",
     "height": 34
    },
    "colab_type": "code",
    "id": "FzwlEMLdcP2Q",
    "outputId": "75c80802-6a68-442b-dda0-ab59a2d976b9"
   },
   "outputs": [
    {
     "data": {
      "text/plain": [
       "numpy.ndarray"
      ]
     },
     "execution_count": 100,
     "metadata": {},
     "output_type": "execute_result"
    }
   ],
   "source": [
    "type(h)"
   ]
  },
  {
   "cell_type": "markdown",
   "metadata": {
    "colab_type": "text",
    "id": "jL9LMbxFa-jR"
   },
   "source": [
    "Create a copy of the array (one more way):"
   ]
  },
  {
   "cell_type": "code",
   "execution_count": 101,
   "metadata": {
    "colab": {},
    "colab_type": "code",
    "id": "Z2Q5rovCcWu3"
   },
   "outputs": [],
   "source": [
    "h = a.copy()"
   ]
  },
  {
   "cell_type": "code",
   "execution_count": 102,
   "metadata": {
    "colab": {
     "base_uri": "https://localhost:8080/",
     "height": 34
    },
    "colab_type": "code",
    "id": "0UNhSb37cepu",
    "outputId": "38ac9f06-6322-4d37-b5a2-bbe08419d06a"
   },
   "outputs": [
    {
     "data": {
      "text/plain": [
       "array([1, 2, 3])"
      ]
     },
     "execution_count": 102,
     "metadata": {},
     "output_type": "execute_result"
    }
   ],
   "source": [
    "h"
   ]
  },
  {
   "cell_type": "code",
   "execution_count": 103,
   "metadata": {
    "colab": {
     "base_uri": "https://localhost:8080/",
     "height": 34
    },
    "colab_type": "code",
    "id": "z6g103Uicfnv",
    "outputId": "b87632a1-524d-4cea-8115-309358fd6a6a"
   },
   "outputs": [
    {
     "data": {
      "text/plain": [
       "numpy.ndarray"
      ]
     },
     "execution_count": 103,
     "metadata": {},
     "output_type": "execute_result"
    }
   ],
   "source": [
    "type(h)"
   ]
  },
  {
   "cell_type": "markdown",
   "metadata": {
    "colab_type": "text",
    "id": "0-brDvDRrIfZ",
    "toc-hr-collapsed": true,
    "toc-nb-collapsed": true
   },
   "source": [
    "## Sorting Arrays"
   ]
  },
  {
   "cell_type": "markdown",
   "metadata": {
    "colab_type": "text",
    "id": "PorRgr86eK7A"
   },
   "source": [
    "Sort an array:"
   ]
  },
  {
   "cell_type": "code",
   "execution_count": 112,
   "metadata": {
    "colab": {},
    "colab_type": "code",
    "id": "bb66xemUdJM7"
   },
   "outputs": [],
   "source": [
    "x = np.array([(2, 1.5, 3), (6, 5, 4)], dtype = float)"
   ]
  },
  {
   "cell_type": "code",
   "execution_count": 113,
   "metadata": {
    "colab": {
     "base_uri": "https://localhost:8080/",
     "height": 52
    },
    "colab_type": "code",
    "id": "Q6uALTs4d1YQ",
    "outputId": "dc516eae-8f12-4fa7-dd9e-7e5e14753d34"
   },
   "outputs": [
    {
     "data": {
      "text/plain": [
       "array([[2. , 1.5, 3. ],\n",
       "       [6. , 5. , 4. ]])"
      ]
     },
     "execution_count": 113,
     "metadata": {},
     "output_type": "execute_result"
    }
   ],
   "source": [
    "x"
   ]
  },
  {
   "cell_type": "code",
   "execution_count": 114,
   "metadata": {
    "colab": {},
    "colab_type": "code",
    "id": "dD7CTVj4c2Rw"
   },
   "outputs": [],
   "source": [
    "x.sort()"
   ]
  },
  {
   "cell_type": "code",
   "execution_count": 115,
   "metadata": {
    "colab": {
     "base_uri": "https://localhost:8080/",
     "height": 52
    },
    "colab_type": "code",
    "id": "jKH9rBeFc8kx",
    "outputId": "f344ceb5-1272-4ed8-9eea-22a8f772d5aa"
   },
   "outputs": [
    {
     "data": {
      "text/plain": [
       "array([[1.5, 2. , 3. ],\n",
       "       [4. , 5. , 6. ]])"
      ]
     },
     "execution_count": 115,
     "metadata": {},
     "output_type": "execute_result"
    }
   ],
   "source": [
    "x"
   ]
  },
  {
   "cell_type": "markdown",
   "metadata": {
    "colab_type": "text",
    "id": "1e_y9u5SeOrj"
   },
   "source": [
    "Sort the elements of an array axis:"
   ]
  },
  {
   "cell_type": "code",
   "execution_count": 116,
   "metadata": {
    "colab": {},
    "colab_type": "code",
    "id": "GtgecCnQekrL"
   },
   "outputs": [],
   "source": [
    "y = np.array([(9, 1.5, 5), (6, 5, 4)], dtype = float)"
   ]
  },
  {
   "cell_type": "code",
   "execution_count": 117,
   "metadata": {
    "colab": {
     "base_uri": "https://localhost:8080/",
     "height": 52
    },
    "colab_type": "code",
    "id": "i7NrTFr6ec5Y",
    "outputId": "b33c2cea-3a15-4b2b-8928-18ac10e55acc"
   },
   "outputs": [
    {
     "data": {
      "text/plain": [
       "array([[9. , 1.5, 5. ],\n",
       "       [6. , 5. , 4. ]])"
      ]
     },
     "execution_count": 117,
     "metadata": {},
     "output_type": "execute_result"
    }
   ],
   "source": [
    "y"
   ]
  },
  {
   "cell_type": "code",
   "execution_count": 118,
   "metadata": {
    "colab": {},
    "colab_type": "code",
    "id": "NHXEcRa8ec5e"
   },
   "outputs": [],
   "source": [
    "y.sort(axis = 0)"
   ]
  },
  {
   "cell_type": "code",
   "execution_count": 119,
   "metadata": {
    "colab": {
     "base_uri": "https://localhost:8080/",
     "height": 52
    },
    "colab_type": "code",
    "id": "ADJcvpDLec5h",
    "outputId": "396e3a50-3e72-401d-b371-df4fc05773f0"
   },
   "outputs": [
    {
     "data": {
      "text/plain": [
       "array([[6. , 1.5, 4. ],\n",
       "       [9. , 5. , 5. ]])"
      ]
     },
     "execution_count": 119,
     "metadata": {},
     "output_type": "execute_result"
    }
   ],
   "source": [
    "y"
   ]
  },
  {
   "cell_type": "markdown",
   "metadata": {
    "colab_type": "text",
    "id": "PXnCTEkvrQik",
    "toc-hr-collapsed": true,
    "toc-nb-collapsed": true
   },
   "source": [
    "## Subsetting, Slicing, Indexing"
   ]
  },
  {
   "cell_type": "markdown",
   "metadata": {
    "colab_type": "text",
    "id": "ajjRtNpUfM7z"
   },
   "source": [
    "*Also see Lists.*"
   ]
  },
  {
   "cell_type": "markdown",
   "metadata": {
    "colab_type": "text",
    "id": "l4BMa9MlfSQS"
   },
   "source": [
    "**Subsetting**"
   ]
  },
  {
   "cell_type": "markdown",
   "metadata": {
    "colab_type": "text",
    "id": "48mO0kNhfSsM"
   },
   "source": [
    "Select the element at the 2nd index:"
   ]
  },
  {
   "cell_type": "code",
   "execution_count": 120,
   "metadata": {
    "colab": {
     "base_uri": "https://localhost:8080/",
     "height": 34
    },
    "colab_type": "code",
    "id": "C7MQ1AQPkydm",
    "outputId": "0d9b71ee-facd-4dee-856a-4ed50a069cb9"
   },
   "outputs": [
    {
     "data": {
      "text/plain": [
       "array([1, 2, 3])"
      ]
     },
     "execution_count": 120,
     "metadata": {},
     "output_type": "execute_result"
    }
   ],
   "source": [
    "a"
   ]
  },
  {
   "cell_type": "code",
   "execution_count": 121,
   "metadata": {
    "colab": {
     "base_uri": "https://localhost:8080/",
     "height": 34
    },
    "colab_type": "code",
    "id": "mfgW46_ikykq",
    "outputId": "384d3fa3-6c2e-4d53-f691-8e2dc54b2cde"
   },
   "outputs": [
    {
     "data": {
      "text/plain": [
       "3"
      ]
     },
     "execution_count": 121,
     "metadata": {},
     "output_type": "execute_result"
    }
   ],
   "source": [
    "a[2]"
   ]
  },
  {
   "cell_type": "markdown",
   "metadata": {
    "colab_type": "text",
    "id": "aWqCV0-sfSvZ"
   },
   "source": [
    "Select the element at row 1 and column 2:"
   ]
  },
  {
   "cell_type": "code",
   "execution_count": 122,
   "metadata": {
    "colab": {
     "base_uri": "https://localhost:8080/",
     "height": 52
    },
    "colab_type": "code",
    "id": "uXyPbbaRk3tT",
    "outputId": "54224612-d290-49b9-aef8-c599343ab333"
   },
   "outputs": [
    {
     "data": {
      "text/plain": [
       "array([[1.5, 2. , 3. ],\n",
       "       [4. , 5. , 6. ]])"
      ]
     },
     "execution_count": 122,
     "metadata": {},
     "output_type": "execute_result"
    }
   ],
   "source": [
    "b"
   ]
  },
  {
   "cell_type": "code",
   "execution_count": 123,
   "metadata": {
    "colab": {
     "base_uri": "https://localhost:8080/",
     "height": 34
    },
    "colab_type": "code",
    "id": "9iwYIJ7-k3wJ",
    "outputId": "6f3208fb-2c28-42b1-b7f0-1b80d65ebbfb"
   },
   "outputs": [
    {
     "data": {
      "text/plain": [
       "6.0"
      ]
     },
     "execution_count": 123,
     "metadata": {},
     "output_type": "execute_result"
    }
   ],
   "source": [
    "b[1, 2]"
   ]
  },
  {
   "cell_type": "code",
   "execution_count": 124,
   "metadata": {
    "colab": {
     "base_uri": "https://localhost:8080/",
     "height": 34
    },
    "colab_type": "code",
    "id": "OxzaIcyTlJlj",
    "outputId": "2ce662df-491b-48f9-eff8-2f9955113a37"
   },
   "outputs": [
    {
     "data": {
      "text/plain": [
       "6.0"
      ]
     },
     "execution_count": 124,
     "metadata": {},
     "output_type": "execute_result"
    }
   ],
   "source": [
    "b[1][2]"
   ]
  },
  {
   "cell_type": "markdown",
   "metadata": {
    "colab_type": "text",
    "id": "Cfenv8ZwfS04"
   },
   "source": [
    "**Slicing**"
   ]
  },
  {
   "cell_type": "markdown",
   "metadata": {
    "colab_type": "text",
    "id": "Q6hObBJVfS9o"
   },
   "source": [
    "Select elements at indexes 0 and 1:"
   ]
  },
  {
   "cell_type": "code",
   "execution_count": 125,
   "metadata": {
    "colab": {
     "base_uri": "https://localhost:8080/",
     "height": 34
    },
    "colab_type": "code",
    "id": "nXSZOJnSlRXJ",
    "outputId": "925a6906-2482-4a0e-88f5-dd6deacfe1b6"
   },
   "outputs": [
    {
     "data": {
      "text/plain": [
       "array([1, 2, 3])"
      ]
     },
     "execution_count": 125,
     "metadata": {},
     "output_type": "execute_result"
    }
   ],
   "source": [
    "a"
   ]
  },
  {
   "cell_type": "code",
   "execution_count": 126,
   "metadata": {
    "colab": {
     "base_uri": "https://localhost:8080/",
     "height": 34
    },
    "colab_type": "code",
    "id": "OvKGbnmolRZ8",
    "outputId": "151d224c-e625-4f31-e713-3c02a840b09f"
   },
   "outputs": [
    {
     "data": {
      "text/plain": [
       "array([1, 2])"
      ]
     },
     "execution_count": 126,
     "metadata": {},
     "output_type": "execute_result"
    }
   ],
   "source": [
    "a[0:2]"
   ]
  },
  {
   "cell_type": "markdown",
   "metadata": {
    "colab_type": "text",
    "id": "YRoJaNA2fS68"
   },
   "source": [
    "Select items at rows 0 and 1 in column 1:"
   ]
  },
  {
   "cell_type": "code",
   "execution_count": 127,
   "metadata": {
    "colab": {
     "base_uri": "https://localhost:8080/",
     "height": 52
    },
    "colab_type": "code",
    "id": "8QAVIY9RldtD",
    "outputId": "6a27202c-db1d-47c7-adaf-f2216c51c80c"
   },
   "outputs": [
    {
     "data": {
      "text/plain": [
       "array([[1.5, 2. , 3. ],\n",
       "       [4. , 5. , 6. ]])"
      ]
     },
     "execution_count": 127,
     "metadata": {},
     "output_type": "execute_result"
    }
   ],
   "source": [
    "b"
   ]
  },
  {
   "cell_type": "code",
   "execution_count": 128,
   "metadata": {
    "colab": {
     "base_uri": "https://localhost:8080/",
     "height": 34
    },
    "colab_type": "code",
    "id": "Hi7rWT69ldp4",
    "outputId": "8cc2c93c-fd7b-4f43-e03c-9f41602bb664"
   },
   "outputs": [
    {
     "data": {
      "text/plain": [
       "array([2., 5.])"
      ]
     },
     "execution_count": 128,
     "metadata": {},
     "output_type": "execute_result"
    }
   ],
   "source": [
    "b[0:2, 1]"
   ]
  },
  {
   "cell_type": "markdown",
   "metadata": {
    "colab_type": "text",
    "id": "ALVrh0ZIfS4D"
   },
   "source": [
    "Select all items at row 0:"
   ]
  },
  {
   "cell_type": "code",
   "execution_count": 129,
   "metadata": {
    "colab": {
     "base_uri": "https://localhost:8080/",
     "height": 52
    },
    "colab_type": "code",
    "id": "-sQq3CRmj-mM",
    "outputId": "580b1a18-7471-4fb0-86a7-de097fac42c1"
   },
   "outputs": [
    {
     "data": {
      "text/plain": [
       "array([[1.5, 2. , 3. ],\n",
       "       [4. , 5. , 6. ]])"
      ]
     },
     "execution_count": 129,
     "metadata": {},
     "output_type": "execute_result"
    }
   ],
   "source": [
    "b"
   ]
  },
  {
   "cell_type": "code",
   "execution_count": 130,
   "metadata": {
    "colab": {
     "base_uri": "https://localhost:8080/",
     "height": 34
    },
    "colab_type": "code",
    "id": "kFFWIyjLl2HH",
    "outputId": "cd7d26fc-10be-4123-a259-e8f8ab4efbf9"
   },
   "outputs": [
    {
     "data": {
      "text/plain": [
       "array([[1.5, 2. , 3. ]])"
      ]
     },
     "execution_count": 130,
     "metadata": {},
     "output_type": "execute_result"
    }
   ],
   "source": [
    "b[:1]"
   ]
  },
  {
   "cell_type": "markdown",
   "metadata": {
    "colab_type": "text",
    "id": "MUdBWcRIfSym"
   },
   "source": [
    "(equivalent to b[0:1, :])"
   ]
  },
  {
   "cell_type": "code",
   "execution_count": 131,
   "metadata": {
    "colab": {
     "base_uri": "https://localhost:8080/",
     "height": 34
    },
    "colab_type": "code",
    "id": "_5-YsmCvl8hQ",
    "outputId": "1e456d81-8246-49d4-98ca-938d4e7dbc4c"
   },
   "outputs": [
    {
     "data": {
      "text/plain": [
       "array([[1.5, 2. , 3. ]])"
      ]
     },
     "execution_count": 131,
     "metadata": {},
     "output_type": "execute_result"
    }
   ],
   "source": [
    "b[0:1, :]"
   ]
  },
  {
   "cell_type": "code",
   "execution_count": 132,
   "metadata": {
    "colab": {
     "base_uri": "https://localhost:8080/",
     "height": 104
    },
    "colab_type": "code",
    "id": "gbw4YyePmbLD",
    "outputId": "70aa2c09-fdf4-4492-c7bf-d05aed8dc443"
   },
   "outputs": [
    {
     "data": {
      "text/plain": [
       "array([[[1.5, 2. , 3. ],\n",
       "        [4. , 5. , 6. ]],\n",
       "\n",
       "       [[3. , 2. , 1. ],\n",
       "        [4. , 5. , 6. ]]])"
      ]
     },
     "execution_count": 132,
     "metadata": {},
     "output_type": "execute_result"
    }
   ],
   "source": [
    "c"
   ]
  },
  {
   "cell_type": "code",
   "execution_count": 133,
   "metadata": {
    "colab": {
     "base_uri": "https://localhost:8080/",
     "height": 52
    },
    "colab_type": "code",
    "id": "OOskYfQqmUQB",
    "outputId": "81005f38-55d7-485a-e0ae-6db83d176926"
   },
   "outputs": [
    {
     "data": {
      "text/plain": [
       "array([[3., 2., 1.],\n",
       "       [4., 5., 6.]])"
      ]
     },
     "execution_count": 133,
     "metadata": {},
     "output_type": "execute_result"
    }
   ],
   "source": [
    "c[1, ...]"
   ]
  },
  {
   "cell_type": "markdown",
   "metadata": {
    "colab_type": "text",
    "id": "FDpzv7UKfk_Z"
   },
   "source": [
    "(same as c[1, :, :])"
   ]
  },
  {
   "cell_type": "code",
   "execution_count": 134,
   "metadata": {
    "colab": {
     "base_uri": "https://localhost:8080/",
     "height": 52
    },
    "colab_type": "code",
    "id": "uhyuGJT1mi9V",
    "outputId": "05f61133-2138-44ba-deb3-979c7ee2dc81"
   },
   "outputs": [
    {
     "data": {
      "text/plain": [
       "array([[3., 2., 1.],\n",
       "       [4., 5., 6.]])"
      ]
     },
     "execution_count": 134,
     "metadata": {},
     "output_type": "execute_result"
    }
   ],
   "source": [
    "c[1, :, :]"
   ]
  },
  {
   "cell_type": "markdown",
   "metadata": {
    "colab_type": "text",
    "id": "0CDPA1N0kAKZ"
   },
   "source": [
    "Reversed array:"
   ]
  },
  {
   "cell_type": "code",
   "execution_count": 135,
   "metadata": {
    "colab": {
     "base_uri": "https://localhost:8080/",
     "height": 34
    },
    "colab_type": "code",
    "id": "MoIjVIOTmqef",
    "outputId": "7d3a6589-2833-4422-885b-a9e01edc139e"
   },
   "outputs": [
    {
     "data": {
      "text/plain": [
       "array([3, 2, 1])"
      ]
     },
     "execution_count": 135,
     "metadata": {},
     "output_type": "execute_result"
    }
   ],
   "source": [
    "a[ : :-1]"
   ]
  },
  {
   "cell_type": "markdown",
   "metadata": {
    "colab_type": "text",
    "id": "Wyviy8V8flUK"
   },
   "source": [
    "**Boolean Indexing**"
   ]
  },
  {
   "cell_type": "markdown",
   "metadata": {
    "colab_type": "text",
    "id": "igXASikTfq5I"
   },
   "source": [
    "Select elements from an array less than 2:"
   ]
  },
  {
   "cell_type": "code",
   "execution_count": 137,
   "metadata": {
    "colab": {
     "base_uri": "https://localhost:8080/",
     "height": 34
    },
    "colab_type": "code",
    "id": "Z9Pf_sVLbMsB",
    "outputId": "4507b3ef-8699-40c6-c9b2-099a3745d7ac"
   },
   "outputs": [
    {
     "data": {
      "text/plain": [
       "array([1])"
      ]
     },
     "execution_count": 137,
     "metadata": {},
     "output_type": "execute_result"
    }
   ],
   "source": [
    "a[a < 2]"
   ]
  },
  {
   "cell_type": "code",
   "execution_count": 138,
   "metadata": {
    "colab": {
     "base_uri": "https://localhost:8080/",
     "height": 52
    },
    "colab_type": "code",
    "id": "UYT7e9zHltCx",
    "outputId": "6c36d0bd-76b2-479d-f89d-67dd29fd2f96"
   },
   "outputs": [
    {
     "data": {
      "text/plain": [
       "array([[1.5, 2. , 3. ],\n",
       "       [4. , 5. , 6. ]])"
      ]
     },
     "execution_count": 138,
     "metadata": {},
     "output_type": "execute_result"
    }
   ],
   "source": [
    "b"
   ]
  },
  {
   "cell_type": "code",
   "execution_count": 139,
   "metadata": {
    "colab": {
     "base_uri": "https://localhost:8080/",
     "height": 34
    },
    "colab_type": "code",
    "id": "cFigVY96lt_8",
    "outputId": "08617204-e233-429f-e77b-7a1de0e34b57"
   },
   "outputs": [
    {
     "data": {
      "text/plain": [
       "array([1.5, 2. , 3. , 4. ])"
      ]
     },
     "execution_count": 139,
     "metadata": {},
     "output_type": "execute_result"
    }
   ],
   "source": [
    "b[b < 5]"
   ]
  },
  {
   "cell_type": "markdown",
   "metadata": {
    "colab_type": "text",
    "id": "tyeFvkAIfr1s"
   },
   "source": [
    "**Fancy Indexing**"
   ]
  },
  {
   "cell_type": "markdown",
   "metadata": {
    "colab_type": "text",
    "id": "9LxOXvpyfwNE"
   },
   "source": [
    "Select elements (1, 0), (0, 1), (1, 2) and (0, 0):"
   ]
  },
  {
   "cell_type": "code",
   "execution_count": 141,
   "metadata": {
    "colab": {
     "base_uri": "https://localhost:8080/",
     "height": 52
    },
    "colab_type": "code",
    "id": "r2i-lMw1cNsZ",
    "outputId": "fd56a774-49cb-4547-a527-6884e5c46568"
   },
   "outputs": [
    {
     "data": {
      "text/plain": [
       "array([[1.5, 2. , 3. ],\n",
       "       [4. , 5. , 6. ]])"
      ]
     },
     "execution_count": 141,
     "metadata": {},
     "output_type": "execute_result"
    }
   ],
   "source": [
    "b"
   ]
  },
  {
   "cell_type": "code",
   "execution_count": 142,
   "metadata": {
    "colab": {
     "base_uri": "https://localhost:8080/",
     "height": 34
    },
    "colab_type": "code",
    "id": "ASWTj6b7cg5J",
    "outputId": "fe98aa1a-324a-4e6f-ddcf-c05931d50b74"
   },
   "outputs": [
    {
     "data": {
      "text/plain": [
       "array([4. , 2. , 6. , 1.5])"
      ]
     },
     "execution_count": 142,
     "metadata": {},
     "output_type": "execute_result"
    }
   ],
   "source": [
    "b[[1, 0, 1, 0], [0, 1, 2, 0]]"
   ]
  },
  {
   "cell_type": "markdown",
   "metadata": {
    "colab_type": "text",
    "id": "zdtuCsjhrZW2",
    "toc-hr-collapsed": true,
    "toc-nb-collapsed": true
   },
   "source": [
    "## Array Manipulation"
   ]
  },
  {
   "cell_type": "markdown",
   "metadata": {
    "colab_type": "text",
    "id": "0uEJwVAtedx2"
   },
   "source": [
    "### Transposing Array"
   ]
  },
  {
   "cell_type": "markdown",
   "metadata": {
    "colab_type": "text",
    "id": "ktie3dwAeg_H"
   },
   "source": [
    "Permute array dimensions:"
   ]
  },
  {
   "cell_type": "code",
   "execution_count": 143,
   "metadata": {
    "colab": {
     "base_uri": "https://localhost:8080/",
     "height": 52
    },
    "colab_type": "code",
    "id": "o0R7mG0vgpU1",
    "outputId": "19b22af5-1ed8-4211-9113-c0cb18dd41dc"
   },
   "outputs": [
    {
     "data": {
      "text/plain": [
       "array([[1.5, 2. , 3. ],\n",
       "       [4. , 5. , 6. ]])"
      ]
     },
     "execution_count": 143,
     "metadata": {},
     "output_type": "execute_result"
    }
   ],
   "source": [
    "b"
   ]
  },
  {
   "cell_type": "code",
   "execution_count": 144,
   "metadata": {
    "colab": {},
    "colab_type": "code",
    "id": "9_fY8vhFgqud"
   },
   "outputs": [],
   "source": [
    "i = np.transpose(b)"
   ]
  },
  {
   "cell_type": "code",
   "execution_count": 145,
   "metadata": {
    "colab": {
     "base_uri": "https://localhost:8080/",
     "height": 69
    },
    "colab_type": "code",
    "id": "6_YkcEccg0Fz",
    "outputId": "ac4f5c12-0440-490a-cfdd-a25f5c5e0a01"
   },
   "outputs": [
    {
     "data": {
      "text/plain": [
       "array([[1.5, 4. ],\n",
       "       [2. , 5. ],\n",
       "       [3. , 6. ]])"
      ]
     },
     "execution_count": 145,
     "metadata": {},
     "output_type": "execute_result"
    }
   ],
   "source": [
    "i"
   ]
  },
  {
   "cell_type": "code",
   "execution_count": 146,
   "metadata": {
    "colab": {
     "base_uri": "https://localhost:8080/",
     "height": 52
    },
    "colab_type": "code",
    "id": "KGTgN4oyg9x0",
    "outputId": "92d23f8a-effb-4036-a16f-92cfb737a2c3"
   },
   "outputs": [
    {
     "data": {
      "text/plain": [
       "array([[1.5, 2. , 3. ],\n",
       "       [4. , 5. , 6. ]])"
      ]
     },
     "execution_count": 146,
     "metadata": {},
     "output_type": "execute_result"
    }
   ],
   "source": [
    "i.T"
   ]
  },
  {
   "cell_type": "markdown",
   "metadata": {
    "colab_type": "text",
    "id": "iNYaz4cZe83j"
   },
   "source": [
    "### Changing Array Shape"
   ]
  },
  {
   "cell_type": "markdown",
   "metadata": {
    "colab_type": "text",
    "id": "hhewgQt3fFt6"
   },
   "source": [
    "Flatten the array:"
   ]
  },
  {
   "cell_type": "code",
   "execution_count": 147,
   "metadata": {
    "colab": {
     "base_uri": "https://localhost:8080/",
     "height": 52
    },
    "colab_type": "code",
    "id": "M93ejxUunRdi",
    "outputId": "b25a0a75-5d9f-46c2-e97a-e464f4095375"
   },
   "outputs": [
    {
     "data": {
      "text/plain": [
       "array([[1.5, 2. , 3. ],\n",
       "       [4. , 5. , 6. ]])"
      ]
     },
     "execution_count": 147,
     "metadata": {},
     "output_type": "execute_result"
    }
   ],
   "source": [
    "b"
   ]
  },
  {
   "cell_type": "code",
   "execution_count": 148,
   "metadata": {
    "colab": {
     "base_uri": "https://localhost:8080/",
     "height": 34
    },
    "colab_type": "code",
    "id": "CWy15UuDhCd5",
    "outputId": "f7c9c7dd-2768-4f45-b8d1-f25b05ce3aed"
   },
   "outputs": [
    {
     "data": {
      "text/plain": [
       "array([1.5, 2. , 3. , 4. , 5. , 6. ])"
      ]
     },
     "execution_count": 148,
     "metadata": {},
     "output_type": "execute_result"
    }
   ],
   "source": [
    "b.ravel()"
   ]
  },
  {
   "cell_type": "markdown",
   "metadata": {
    "colab_type": "text",
    "id": "MAKh53TEfJq2"
   },
   "source": [
    "Reshape, but do not change data:"
   ]
  },
  {
   "cell_type": "code",
   "execution_count": 149,
   "metadata": {
    "colab": {
     "base_uri": "https://localhost:8080/",
     "height": 52
    },
    "colab_type": "code",
    "id": "JDraNs1ahJV5",
    "outputId": "82ff6d94-eaa5-4316-e1b8-474f623ff337"
   },
   "outputs": [
    {
     "data": {
      "text/plain": [
       "array([[-0.5,  0. ,  0. ],\n",
       "       [-3. , -3. , -3. ]])"
      ]
     },
     "execution_count": 149,
     "metadata": {},
     "output_type": "execute_result"
    }
   ],
   "source": [
    "g"
   ]
  },
  {
   "cell_type": "code",
   "execution_count": 150,
   "metadata": {
    "colab": {
     "base_uri": "https://localhost:8080/",
     "height": 34
    },
    "colab_type": "code",
    "id": "HFmIN9MCnXnb",
    "outputId": "c67a8631-0385-4195-fe63-04d50fbf245d"
   },
   "outputs": [
    {
     "data": {
      "text/plain": [
       "(2, 3)"
      ]
     },
     "execution_count": 150,
     "metadata": {},
     "output_type": "execute_result"
    }
   ],
   "source": [
    "g.shape"
   ]
  },
  {
   "cell_type": "code",
   "execution_count": 151,
   "metadata": {
    "colab": {
     "base_uri": "https://localhost:8080/",
     "height": 69
    },
    "colab_type": "code",
    "id": "6z8-a-ZqhNW-",
    "outputId": "c641f7e6-e49d-4d75-c71b-34b4a38a4bad"
   },
   "outputs": [
    {
     "data": {
      "text/plain": [
       "array([[-0.5,  0. ],\n",
       "       [ 0. , -3. ],\n",
       "       [-3. , -3. ]])"
      ]
     },
     "execution_count": 151,
     "metadata": {},
     "output_type": "execute_result"
    }
   ],
   "source": [
    "g.reshape(3, 2)"
   ]
  },
  {
   "cell_type": "markdown",
   "metadata": {
    "colab_type": "text",
    "id": "lsbokb1FfOsm"
   },
   "source": [
    "### Adding / Removing Elements"
   ]
  },
  {
   "cell_type": "markdown",
   "metadata": {
    "colab_type": "text",
    "id": "3UYMOqdHfZxP"
   },
   "source": [
    "Append items to an array:"
   ]
  },
  {
   "cell_type": "code",
   "execution_count": 152,
   "metadata": {
    "colab": {
     "base_uri": "https://localhost:8080/",
     "height": 34
    },
    "colab_type": "code",
    "id": "b7Ugh46ei3sw",
    "outputId": "92b0684f-0586-4779-969c-71530b00c096"
   },
   "outputs": [
    {
     "data": {
      "text/plain": [
       "array([1, 2, 3])"
      ]
     },
     "execution_count": 152,
     "metadata": {},
     "output_type": "execute_result"
    }
   ],
   "source": [
    "a"
   ]
  },
  {
   "cell_type": "code",
   "execution_count": 153,
   "metadata": {
    "colab": {
     "base_uri": "https://localhost:8080/",
     "height": 52
    },
    "colab_type": "code",
    "id": "wOQAXOlOi3v6",
    "outputId": "f0062899-4ef5-4f8f-9caa-24dfc84a5ec9"
   },
   "outputs": [
    {
     "data": {
      "text/plain": [
       "array([[-0.5,  0. ,  0. ],\n",
       "       [-3. , -3. , -3. ]])"
      ]
     },
     "execution_count": 153,
     "metadata": {},
     "output_type": "execute_result"
    }
   ],
   "source": [
    "g"
   ]
  },
  {
   "cell_type": "code",
   "execution_count": 154,
   "metadata": {
    "colab": {
     "base_uri": "https://localhost:8080/",
     "height": 34
    },
    "colab_type": "code",
    "id": "IdhaE9N5i38X",
    "outputId": "fb38df20-7f64-4869-f838-52593074005b"
   },
   "outputs": [
    {
     "data": {
      "text/plain": [
       "array([ 1. ,  2. ,  3. , -0.5,  0. ,  0. , -3. , -3. , -3. ])"
      ]
     },
     "execution_count": 154,
     "metadata": {},
     "output_type": "execute_result"
    }
   ],
   "source": [
    "np.append(a, g)"
   ]
  },
  {
   "cell_type": "markdown",
   "metadata": {
    "colab_type": "text",
    "id": "530Y8qx8w_yN"
   },
   "source": [
    "*np.append* do not produce the expected result, as it produces a 1D-array.\n",
    "\n",
    "To append arrays maintaining its dimensions:"
   ]
  },
  {
   "cell_type": "code",
   "execution_count": 155,
   "metadata": {
    "colab": {
     "base_uri": "https://localhost:8080/",
     "height": 69
    },
    "colab_type": "code",
    "id": "luoZUIxixkKF",
    "outputId": "fd9419e7-6c03-4d0e-ce8d-26d217475695"
   },
   "outputs": [
    {
     "data": {
      "text/plain": [
       "array([[ 1. ,  2. ,  3. ],\n",
       "       [-0.5,  0. ,  0. ],\n",
       "       [-3. , -3. , -3. ]])"
      ]
     },
     "execution_count": 155,
     "metadata": {},
     "output_type": "execute_result"
    }
   ],
   "source": [
    "np.vstack((a, g))"
   ]
  },
  {
   "cell_type": "markdown",
   "metadata": {
    "colab_type": "text",
    "id": "AmhQiaXefdoN"
   },
   "source": [
    "Insert items in a array:"
   ]
  },
  {
   "cell_type": "code",
   "execution_count": 156,
   "metadata": {
    "colab": {
     "base_uri": "https://localhost:8080/",
     "height": 34
    },
    "colab_type": "code",
    "id": "jdzLaAsci-vf",
    "outputId": "05484803-1797-42c7-ec29-b088b8950d06"
   },
   "outputs": [
    {
     "data": {
      "text/plain": [
       "array([1, 2, 3])"
      ]
     },
     "execution_count": 156,
     "metadata": {},
     "output_type": "execute_result"
    }
   ],
   "source": [
    "a"
   ]
  },
  {
   "cell_type": "code",
   "execution_count": 157,
   "metadata": {
    "colab": {
     "base_uri": "https://localhost:8080/",
     "height": 34
    },
    "colab_type": "code",
    "id": "OaVsgXeLi-tG",
    "outputId": "2ccd27ef-6e04-4252-a2b9-cfff23e9246f"
   },
   "outputs": [
    {
     "data": {
      "text/plain": [
       "array([1, 5, 2, 3])"
      ]
     },
     "execution_count": 157,
     "metadata": {},
     "output_type": "execute_result"
    }
   ],
   "source": [
    "np.insert(a, 1, 5)"
   ]
  },
  {
   "cell_type": "markdown",
   "metadata": {
    "colab_type": "text",
    "id": "kS_rxx-Bflk7"
   },
   "source": [
    "Delete items from an array:"
   ]
  },
  {
   "cell_type": "code",
   "execution_count": 158,
   "metadata": {
    "colab": {
     "base_uri": "https://localhost:8080/",
     "height": 34
    },
    "colab_type": "code",
    "id": "uAeRMPE5jFOA",
    "outputId": "c972445b-7ca5-4958-dcca-69dd076c63b2"
   },
   "outputs": [
    {
     "data": {
      "text/plain": [
       "array([1, 3])"
      ]
     },
     "execution_count": 158,
     "metadata": {},
     "output_type": "execute_result"
    }
   ],
   "source": [
    "np.delete(a, [1])"
   ]
  },
  {
   "cell_type": "markdown",
   "metadata": {
    "colab_type": "text",
    "id": "WorNdedOfpq3"
   },
   "source": [
    "### Combining Arrays"
   ]
  },
  {
   "cell_type": "markdown",
   "metadata": {
    "colab_type": "text",
    "id": "e1t6MEqCfvpl"
   },
   "source": [
    "Concatenate arrays:"
   ]
  },
  {
   "cell_type": "code",
   "execution_count": 159,
   "metadata": {
    "colab": {
     "base_uri": "https://localhost:8080/",
     "height": 34
    },
    "colab_type": "code",
    "id": "xeHGR0zojOks",
    "outputId": "26017f00-6056-409c-d61c-64442a3f2fab"
   },
   "outputs": [
    {
     "data": {
      "text/plain": [
       "array([1, 2, 3])"
      ]
     },
     "execution_count": 159,
     "metadata": {},
     "output_type": "execute_result"
    }
   ],
   "source": [
    "a"
   ]
  },
  {
   "cell_type": "code",
   "execution_count": 160,
   "metadata": {
    "colab": {
     "base_uri": "https://localhost:8080/",
     "height": 34
    },
    "colab_type": "code",
    "id": "44ANUb4ljOoS",
    "outputId": "cdfc510f-180a-4eae-dda9-13e299b27c40"
   },
   "outputs": [
    {
     "data": {
      "text/plain": [
       "array([10, 15, 20])"
      ]
     },
     "execution_count": 160,
     "metadata": {},
     "output_type": "execute_result"
    }
   ],
   "source": [
    "d"
   ]
  },
  {
   "cell_type": "code",
   "execution_count": 161,
   "metadata": {
    "colab": {
     "base_uri": "https://localhost:8080/",
     "height": 34
    },
    "colab_type": "code",
    "id": "0fMfKjwOjLrn",
    "outputId": "e783efd8-ccf6-4c40-e6c9-d0d23225c2e3"
   },
   "outputs": [
    {
     "data": {
      "text/plain": [
       "array([ 1,  2,  3, 10, 15, 20])"
      ]
     },
     "execution_count": 161,
     "metadata": {},
     "output_type": "execute_result"
    }
   ],
   "source": [
    "np.concatenate((a, d), axis = 0)"
   ]
  },
  {
   "cell_type": "markdown",
   "metadata": {
    "colab_type": "text",
    "id": "HIf6RRYhfzOn"
   },
   "source": [
    "Stack arrays vertically (row-wise):"
   ]
  },
  {
   "cell_type": "code",
   "execution_count": 162,
   "metadata": {
    "colab": {
     "base_uri": "https://localhost:8080/",
     "height": 34
    },
    "colab_type": "code",
    "id": "-JSDnzmfjXz3",
    "outputId": "4e217038-9f36-46d7-af50-c70ff65e9a5b"
   },
   "outputs": [
    {
     "data": {
      "text/plain": [
       "array([1, 2, 3])"
      ]
     },
     "execution_count": 162,
     "metadata": {},
     "output_type": "execute_result"
    }
   ],
   "source": [
    "a"
   ]
  },
  {
   "cell_type": "code",
   "execution_count": 163,
   "metadata": {
    "colab": {
     "base_uri": "https://localhost:8080/",
     "height": 52
    },
    "colab_type": "code",
    "id": "8Q9ml_PJjX3B",
    "outputId": "2c55bd3b-8458-42b4-82c8-a44759f4a5e9"
   },
   "outputs": [
    {
     "data": {
      "text/plain": [
       "array([[1.5, 2. , 3. ],\n",
       "       [4. , 5. , 6. ]])"
      ]
     },
     "execution_count": 163,
     "metadata": {},
     "output_type": "execute_result"
    }
   ],
   "source": [
    "b"
   ]
  },
  {
   "cell_type": "code",
   "execution_count": 164,
   "metadata": {
    "colab": {
     "base_uri": "https://localhost:8080/",
     "height": 69
    },
    "colab_type": "code",
    "id": "3T7uIKp9jX9S",
    "outputId": "662c3251-c84e-44d8-ae40-953c2583325a"
   },
   "outputs": [
    {
     "data": {
      "text/plain": [
       "array([[1. , 2. , 3. ],\n",
       "       [1.5, 2. , 3. ],\n",
       "       [4. , 5. , 6. ]])"
      ]
     },
     "execution_count": 164,
     "metadata": {},
     "output_type": "execute_result"
    }
   ],
   "source": [
    "np.vstack((a, b))"
   ]
  },
  {
   "cell_type": "markdown",
   "metadata": {
    "colab_type": "text",
    "id": "8rHZTePNf2Wr"
   },
   "source": [
    "Stack arrays vertically (row-wise):"
   ]
  },
  {
   "cell_type": "code",
   "execution_count": 165,
   "metadata": {
    "colab": {
     "base_uri": "https://localhost:8080/",
     "height": 52
    },
    "colab_type": "code",
    "id": "aGntogtBjhSL",
    "outputId": "41def9ca-73fa-466d-ba64-704d14fffcbf"
   },
   "outputs": [
    {
     "data": {
      "text/plain": [
       "array([[7, 7],\n",
       "       [7, 7]])"
      ]
     },
     "execution_count": 165,
     "metadata": {},
     "output_type": "execute_result"
    }
   ],
   "source": [
    "e"
   ]
  },
  {
   "cell_type": "code",
   "execution_count": 166,
   "metadata": {
    "colab": {
     "base_uri": "https://localhost:8080/",
     "height": 52
    },
    "colab_type": "code",
    "id": "fAgf2H5FjhVZ",
    "outputId": "d066c519-6bc2-458b-dc72-fafad9df0c9a"
   },
   "outputs": [
    {
     "data": {
      "text/plain": [
       "array([[1., 0.],\n",
       "       [0., 1.]])"
      ]
     },
     "execution_count": 166,
     "metadata": {},
     "output_type": "execute_result"
    }
   ],
   "source": [
    "f"
   ]
  },
  {
   "cell_type": "code",
   "execution_count": 167,
   "metadata": {
    "colab": {
     "base_uri": "https://localhost:8080/",
     "height": 86
    },
    "colab_type": "code",
    "id": "VE5Qe62bjhbw",
    "outputId": "0b2e5af7-77d3-4733-bf53-8c80c8017062"
   },
   "outputs": [
    {
     "data": {
      "text/plain": [
       "array([[7., 7.],\n",
       "       [7., 7.],\n",
       "       [1., 0.],\n",
       "       [0., 1.]])"
      ]
     },
     "execution_count": 167,
     "metadata": {},
     "output_type": "execute_result"
    }
   ],
   "source": [
    "np.r_[e, f]"
   ]
  },
  {
   "cell_type": "markdown",
   "metadata": {
    "colab_type": "text",
    "id": "58eDtAXQgC2G"
   },
   "source": [
    "Stack arrays horizontally (column-wise):"
   ]
  },
  {
   "cell_type": "code",
   "execution_count": 168,
   "metadata": {
    "colab": {
     "base_uri": "https://localhost:8080/",
     "height": 52
    },
    "colab_type": "code",
    "id": "2M_TnmqzjqCM",
    "outputId": "cdb3d20b-ad57-4484-edd3-206bcd91123b"
   },
   "outputs": [
    {
     "data": {
      "text/plain": [
       "array([[7, 7],\n",
       "       [7, 7]])"
      ]
     },
     "execution_count": 168,
     "metadata": {},
     "output_type": "execute_result"
    }
   ],
   "source": [
    "e"
   ]
  },
  {
   "cell_type": "code",
   "execution_count": 169,
   "metadata": {
    "colab": {
     "base_uri": "https://localhost:8080/",
     "height": 52
    },
    "colab_type": "code",
    "id": "d6oDWH8gjqFg",
    "outputId": "65019250-3e12-47ee-9f0c-d967c4f70bea"
   },
   "outputs": [
    {
     "data": {
      "text/plain": [
       "array([[1., 0.],\n",
       "       [0., 1.]])"
      ]
     },
     "execution_count": 169,
     "metadata": {},
     "output_type": "execute_result"
    }
   ],
   "source": [
    "f"
   ]
  },
  {
   "cell_type": "code",
   "execution_count": 170,
   "metadata": {
    "colab": {
     "base_uri": "https://localhost:8080/",
     "height": 52
    },
    "colab_type": "code",
    "id": "uw2bscSajqVR",
    "outputId": "ce89067e-89d6-47f6-e687-ead31c5f0fdd"
   },
   "outputs": [
    {
     "data": {
      "text/plain": [
       "array([[7., 7., 1., 0.],\n",
       "       [7., 7., 0., 1.]])"
      ]
     },
     "execution_count": 170,
     "metadata": {},
     "output_type": "execute_result"
    }
   ],
   "source": [
    "np.hstack((e, f))"
   ]
  },
  {
   "cell_type": "markdown",
   "metadata": {
    "colab_type": "text",
    "id": "ySZeksYVgLJn"
   },
   "source": [
    "Create stacked column-wise arrays:"
   ]
  },
  {
   "cell_type": "code",
   "execution_count": 171,
   "metadata": {
    "colab": {
     "base_uri": "https://localhost:8080/",
     "height": 34
    },
    "colab_type": "code",
    "id": "bua6zcEKjx-p",
    "outputId": "1f984e20-cccb-45ed-8b93-784e7368f209"
   },
   "outputs": [
    {
     "data": {
      "text/plain": [
       "array([1, 2, 3])"
      ]
     },
     "execution_count": 171,
     "metadata": {},
     "output_type": "execute_result"
    }
   ],
   "source": [
    "a"
   ]
  },
  {
   "cell_type": "code",
   "execution_count": 172,
   "metadata": {
    "colab": {
     "base_uri": "https://localhost:8080/",
     "height": 34
    },
    "colab_type": "code",
    "id": "J1pBp9cajyB_",
    "outputId": "d5e2770b-e664-430c-881f-3d7204c6f1ff"
   },
   "outputs": [
    {
     "data": {
      "text/plain": [
       "array([10, 15, 20])"
      ]
     },
     "execution_count": 172,
     "metadata": {},
     "output_type": "execute_result"
    }
   ],
   "source": [
    "d"
   ]
  },
  {
   "cell_type": "code",
   "execution_count": 173,
   "metadata": {
    "colab": {
     "base_uri": "https://localhost:8080/",
     "height": 69
    },
    "colab_type": "code",
    "id": "plVo8MaZjyIA",
    "outputId": "fe521b1c-05e0-49bd-b37e-a7c9e9424f08"
   },
   "outputs": [
    {
     "data": {
      "text/plain": [
       "array([[ 1, 10],\n",
       "       [ 2, 15],\n",
       "       [ 3, 20]])"
      ]
     },
     "execution_count": 173,
     "metadata": {},
     "output_type": "execute_result"
    }
   ],
   "source": [
    "np.column_stack((a, d))"
   ]
  },
  {
   "cell_type": "markdown",
   "metadata": {
    "colab_type": "text",
    "id": "3VdDK5QegTkk"
   },
   "source": [
    "Create stacked column-wise arrays:"
   ]
  },
  {
   "cell_type": "code",
   "execution_count": 174,
   "metadata": {
    "colab": {
     "base_uri": "https://localhost:8080/",
     "height": 69
    },
    "colab_type": "code",
    "id": "R6u4negXj-Zv",
    "outputId": "c82a3074-0578-4de7-997f-3d6af869e8df"
   },
   "outputs": [
    {
     "data": {
      "text/plain": [
       "array([[ 1, 10],\n",
       "       [ 2, 15],\n",
       "       [ 3, 20]])"
      ]
     },
     "execution_count": 174,
     "metadata": {},
     "output_type": "execute_result"
    }
   ],
   "source": [
    "np.c_[a, d]"
   ]
  },
  {
   "cell_type": "markdown",
   "metadata": {
    "colab_type": "text",
    "id": "gOJHDyTkgUh6"
   },
   "source": [
    "### Splitting Arrays"
   ]
  },
  {
   "cell_type": "markdown",
   "metadata": {
    "colab_type": "text",
    "id": "fFhfXbKTgZDs"
   },
   "source": [
    "Split the array horizontally:"
   ]
  },
  {
   "cell_type": "code",
   "execution_count": 175,
   "metadata": {
    "colab": {
     "base_uri": "https://localhost:8080/",
     "height": 34
    },
    "colab_type": "code",
    "id": "6fiFO_6lkJnV",
    "outputId": "c16a79cf-c350-4326-d3c1-710c424174ee"
   },
   "outputs": [
    {
     "data": {
      "text/plain": [
       "array([1, 2, 3])"
      ]
     },
     "execution_count": 175,
     "metadata": {},
     "output_type": "execute_result"
    }
   ],
   "source": [
    "a"
   ]
  },
  {
   "cell_type": "code",
   "execution_count": 177,
   "metadata": {
    "colab": {
     "base_uri": "https://localhost:8080/",
     "height": 34
    },
    "colab_type": "code",
    "id": "hLGHmO2TkENp",
    "outputId": "369c416e-3961-499a-c8f7-4919faa9794b"
   },
   "outputs": [
    {
     "data": {
      "text/plain": [
       "[array([1]), array([2]), array([3])]"
      ]
     },
     "execution_count": 177,
     "metadata": {},
     "output_type": "execute_result"
    }
   ],
   "source": [
    "np.hsplit(a, 3)"
   ]
  },
  {
   "cell_type": "code",
   "execution_count": 178,
   "metadata": {
    "colab": {
     "base_uri": "https://localhost:8080/",
     "height": 52
    },
    "colab_type": "code",
    "id": "N2q1pfrzzPua",
    "outputId": "50e11a39-64e6-4c87-ca2d-6bfc5a2584dd"
   },
   "outputs": [
    {
     "data": {
      "text/plain": [
       "array([[1.5, 2. , 3. ],\n",
       "       [4. , 5. , 6. ]])"
      ]
     },
     "execution_count": 178,
     "metadata": {},
     "output_type": "execute_result"
    }
   ],
   "source": [
    "b"
   ]
  },
  {
   "cell_type": "code",
   "execution_count": 179,
   "metadata": {
    "colab": {
     "base_uri": "https://localhost:8080/",
     "height": 86
    },
    "colab_type": "code",
    "id": "p-bJ74KVzRtB",
    "outputId": "13ea5915-f179-4222-e2a6-869fd569c4be"
   },
   "outputs": [
    {
     "data": {
      "text/plain": [
       "[array([[1.5],\n",
       "        [4. ]]), array([[2.],\n",
       "        [5.]]), array([[3.],\n",
       "        [6.]])]"
      ]
     },
     "execution_count": 179,
     "metadata": {},
     "output_type": "execute_result"
    }
   ],
   "source": [
    "np.hsplit(b, 3)"
   ]
  },
  {
   "cell_type": "code",
   "execution_count": 180,
   "metadata": {
    "colab": {
     "base_uri": "https://localhost:8080/",
     "height": 104
    },
    "colab_type": "code",
    "id": "O2XrcoUn0YzR",
    "outputId": "bccb5bfe-d174-4542-b0db-a962a6b3cddc"
   },
   "outputs": [
    {
     "data": {
      "text/plain": [
       "array([[[1.5, 2. , 3. ],\n",
       "        [4. , 5. , 6. ]],\n",
       "\n",
       "       [[3. , 2. , 1. ],\n",
       "        [4. , 5. , 6. ]]])"
      ]
     },
     "execution_count": 180,
     "metadata": {},
     "output_type": "execute_result"
    }
   ],
   "source": [
    "c"
   ]
  },
  {
   "cell_type": "code",
   "execution_count": 181,
   "metadata": {
    "colab": {
     "base_uri": "https://localhost:8080/",
     "height": 104
    },
    "colab_type": "code",
    "id": "_P8jJxOU0alW",
    "outputId": "84e0e8d1-1b82-4f1e-9d3b-7483b2638e22"
   },
   "outputs": [
    {
     "data": {
      "text/plain": [
       "[array([[[1.5, 2. , 3. ]],\n",
       " \n",
       "        [[3. , 2. , 1. ]]]), array([[[4., 5., 6.]],\n",
       " \n",
       "        [[4., 5., 6.]]])]"
      ]
     },
     "execution_count": 181,
     "metadata": {},
     "output_type": "execute_result"
    }
   ],
   "source": [
    "np.hsplit(c, 2)"
   ]
  },
  {
   "cell_type": "markdown",
   "metadata": {
    "colab_type": "text",
    "id": "aUhVUWb5ghFy"
   },
   "source": [
    "Split the array vertically:"
   ]
  },
  {
   "cell_type": "code",
   "execution_count": 182,
   "metadata": {
    "colab": {
     "base_uri": "https://localhost:8080/",
     "height": 104
    },
    "colab_type": "code",
    "id": "t_9N1m4fkLhU",
    "outputId": "8004d090-fc0f-4136-fd57-ba295285a201"
   },
   "outputs": [
    {
     "data": {
      "text/plain": [
       "array([[[1.5, 2. , 3. ],\n",
       "        [4. , 5. , 6. ]],\n",
       "\n",
       "       [[3. , 2. , 1. ],\n",
       "        [4. , 5. , 6. ]]])"
      ]
     },
     "execution_count": 182,
     "metadata": {},
     "output_type": "execute_result"
    }
   ],
   "source": [
    "c"
   ]
  },
  {
   "cell_type": "code",
   "execution_count": 183,
   "metadata": {
    "colab": {
     "base_uri": "https://localhost:8080/",
     "height": 69
    },
    "colab_type": "code",
    "id": "Y9uIiJROkLt6",
    "outputId": "2596d799-6d2f-4557-9e9b-ba53bb9d8d62"
   },
   "outputs": [
    {
     "data": {
      "text/plain": [
       "[array([[[1.5, 2. , 3. ],\n",
       "         [4. , 5. , 6. ]]]), array([[[3., 2., 1.],\n",
       "         [4., 5., 6.]]])]"
      ]
     },
     "execution_count": 183,
     "metadata": {},
     "output_type": "execute_result"
    }
   ],
   "source": [
    "np.vsplit(c, 2)"
   ]
  },
  {
   "cell_type": "code",
   "execution_count": null,
   "metadata": {},
   "outputs": [],
   "source": []
  }
 ],
 "metadata": {
  "colab": {
   "collapsed_sections": [],
   "name": "NumPy.ipynb",
   "provenance": [],
   "version": "0.3.2"
  },
  "kernelspec": {
   "display_name": "Python 3",
   "language": "python",
   "name": "python3"
  },
  "language_info": {
   "codemirror_mode": {
    "name": "ipython",
    "version": 3
   },
   "file_extension": ".py",
   "mimetype": "text/x-python",
   "name": "python",
   "nbconvert_exporter": "python",
   "pygments_lexer": "ipython3",
   "version": "3.7.5"
  }
 },
 "nbformat": 4,
 "nbformat_minor": 4
}
